{
 "cells": [
  {
   "attachments": {},
   "cell_type": "markdown",
   "metadata": {},
   "source": [
    "# Priority Decay Queue\n",
    "> Priority Queue with Minimal Tool Change\n",
    "\n",
    "Testing on Python 3.10"
   ]
  },
  {
   "attachments": {},
   "cell_type": "markdown",
   "metadata": {},
   "source": [
    "## Objective\n",
    "- Minimize the number of tool changes\n",
    "- Prioritize high priority tasks\n",
    "- Increase the priority of task depending on how long it has been waiting\n",
    "- Provide a way to declare a task as URGENT"
   ]
  },
  {
   "cell_type": "code",
   "execution_count": 62,
   "metadata": {},
   "outputs": [],
   "source": [
    "from dataclasses import dataclass, field\n",
    "from datetime import datetime\n",
    "from enum import Enum, auto\n",
    "from typing import Tuple\n",
    "\n",
    "\n",
    "class Tool(Enum): # (Enum, str) not ok\n",
    "  Empty = auto()\n",
    "  A = auto()\n",
    "  B = auto()\n",
    "  C = auto()\n",
    "  D = auto()\n",
    "\n",
    "\n",
    "def tool_change_cost(tool1: Tool, tool2: Tool) -> float:\n",
    "  if tool1 == tool2:\n",
    "    return 0.0\n",
    "  else:\n",
    "    return 1.0\n"
   ]
  },
  {
   "attachments": {},
   "cell_type": "markdown",
   "metadata": {},
   "source": [
    "## `discounted_priority`: Priority, Tool Change, Creation Time"
   ]
  },
  {
   "cell_type": "code",
   "execution_count": 63,
   "metadata": {},
   "outputs": [],
   "source": [
    "class Priority(Enum):\n",
    "  URGENT = 0\n",
    "  VERY_HIGH = 1\n",
    "  HIGH = 2\n",
    "  MODERATE_HIGH = 3\n",
    "  MODERATE = 4\n",
    "  MODERATE_LOW = 5\n",
    "  LOW = 6\n",
    "  VERY_LOW = 7"
   ]
  },
  {
   "cell_type": "code",
   "execution_count": 64,
   "metadata": {},
   "outputs": [],
   "source": [
    "@dataclass\n",
    "class Task:\n",
    "  '''\n",
    "  A task is defined by its priority, the tool it requires, and the time it was created.\n",
    "  '''\n",
    "  priority: Priority\n",
    "  requires_tool: Tool\n",
    "  created_at: datetime = field(default_factory=datetime.now)\n",
    "\n",
    "  def __lt__(self, other: 'Task') -> bool:\n",
    "    return self.priority < other.priority\n",
    "\n",
    "  def discounted_priority(self, current_tool: Tool) -> float:\n",
    "    '''\n",
    "    The discounted_priority of a task is the cost of changing tools plus the discounted priority.\n",
    "    - The cost of changing to the same tool is 0.0\n",
    "    - The cost of changing to a different tool is 1.0\n",
    "    - The discounted_priority of a task is the cost of changing tools plus the discounted priority.\n",
    "    - The discount allows the priority to decay over time. This means that tasks that are older are more important. \n",
    "    - The discounted_priority of a task is 0.0 if the priority is 0, which means it is urgent. This is a hack to make sure urgent tasks are always executed first.\n",
    "    '''\n",
    "    if self.priority == Priority.URGENT:\n",
    "      return 0.0\n",
    "    \n",
    "    duration = (datetime.now() - self.created_at).total_seconds()\n",
    "    # discount = 0.95 ** (duration / 60.0) # The discount is 0.95 every minute.\n",
    "    discount = 0.5 ** (duration / 5.0) # The discount is 0.5 every 5 seconds.\n",
    "    discounted_priority = float(self.priority.value) * discount\n",
    "    offset_from_urget = 0.001 # This is a hack to make sure urgent tasks are always executed first.\n",
    "    return tool_change_cost(current_tool, self.requires_tool) * discounted_priority + offset_from_urget"
   ]
  },
  {
   "cell_type": "code",
   "execution_count": 65,
   "metadata": {},
   "outputs": [
    {
     "name": "stdout",
     "output_type": "stream",
     "text": [
      "Task(priority=1, requires_tool=<Tool.A: 2>, created_at=datetime.datetime(2023, 1, 19, 19, 58, 55, 106719)) Task(priority=<Priority.HIGH: 2>, requires_tool=<Tool.B: 3>, created_at=datetime.datetime(2023, 1, 19, 19, 58, 55, 106744))\n"
     ]
    }
   ],
   "source": [
    "a = Task(1, Tool.A)\n",
    "b = Task(Priority.HIGH, Tool.B)\n",
    "print(a, b)"
   ]
  },
  {
   "attachments": {},
   "cell_type": "markdown",
   "metadata": {},
   "source": [
    "## Subclass Tasks to describe Specific Tasks"
   ]
  },
  {
   "cell_type": "code",
   "execution_count": 95,
   "metadata": {},
   "outputs": [],
   "source": [
    "@dataclass\n",
    "class GcodeTask(Task):\n",
    "  '''\n",
    "  A GcodeTask is a task that has a gcode string.\n",
    "  '''\n",
    "  gcode: str = \"\"\n",
    "\n",
    "  def __str__(self):\n",
    "    return f'{self.gcode}'"
   ]
  },
  {
   "cell_type": "code",
   "execution_count": 96,
   "metadata": {},
   "outputs": [
    {
     "data": {
      "text/plain": [
       "([('__eq__',\n",
       "   <bound method GcodeTask.__eq__ of GcodeTask(priority=<Priority.HIGH: 2>, requires_tool=<Tool.A: 2>, created_at=datetime.datetime(2023, 1, 16, 19, 29, 49, 388454), gcode='G1 X1 Y1')>),\n",
       "  ('__init__',\n",
       "   <bound method GcodeTask.__init__ of GcodeTask(priority=<Priority.HIGH: 2>, requires_tool=<Tool.A: 2>, created_at=datetime.datetime(2023, 1, 16, 19, 29, 49, 388454), gcode='G1 X1 Y1')>),\n",
       "  ('__repr__',\n",
       "   <bound method GcodeTask.__repr__ of GcodeTask(priority=<Priority.HIGH: 2>, requires_tool=<Tool.A: 2>, created_at=datetime.datetime(2023, 1, 16, 19, 29, 49, 388454), gcode='G1 X1 Y1')>),\n",
       "  ('__str__',\n",
       "   <bound method GcodeTask.__str__ of GcodeTask(priority=<Priority.HIGH: 2>, requires_tool=<Tool.A: 2>, created_at=datetime.datetime(2023, 1, 16, 19, 29, 49, 388454), gcode='G1 X1 Y1')>),\n",
       "  ('discounted_priority',\n",
       "   <bound method Task.discounted_priority of GcodeTask(priority=<Priority.HIGH: 2>, requires_tool=<Tool.A: 2>, created_at=datetime.datetime(2023, 1, 16, 19, 29, 49, 388454), gcode='G1 X1 Y1')>)],\n",
       " {'priority': <Priority.HIGH: 2>,\n",
       "  'requires_tool': <Tool.A: 2>,\n",
       "  'created_at': datetime.datetime(2023, 1, 16, 19, 29, 49, 388454),\n",
       "  'gcode': 'G1 X1 Y1'})"
      ]
     },
     "execution_count": 96,
     "metadata": {},
     "output_type": "execute_result"
    }
   ],
   "source": [
    "gtask = GcodeTask(Priority.HIGH, Tool.A, gcode=\"G1 X1 Y1\")\n",
    "\n",
    "import inspect\n",
    "inspect.getmembers(gtask, predicate=inspect.ismethod), gtask.__dict__"
   ]
  },
  {
   "attachments": {},
   "cell_type": "markdown",
   "metadata": {},
   "source": [
    "# Prioritise by Sorting Cost\n",
    "rather than using a priority queue/heap queue"
   ]
  },
  {
   "cell_type": "code",
   "execution_count": 97,
   "metadata": {},
   "outputs": [],
   "source": [
    "from datetime import timedelta\n",
    "\n",
    "@dataclass\n",
    "class SortingTaskQueue:\n",
    "  '''\n",
    "  A task queue is a list of tasks that can be iterated over.\n",
    "  '''\n",
    "  tasks: list[Task] = field(default_factory=list)\n",
    "  current_tool: Tool = Tool.Empty\n",
    "\n",
    "  tool_change_count: int = 0\n",
    "  least_priority_tool_change: float = 0.0\n",
    "  worst_wait_time: timedelta = timedelta(seconds=0) \n",
    "\n",
    "  def add(self, task: Task) -> None:\n",
    "    self.tasks.append(task)\n",
    "\n",
    "  def __iter__(self) -> 'Self':\n",
    "    '''\n",
    "    This is a hack to make the TaskQueue iterable.\n",
    "    '''\n",
    "    return self\n",
    "\n",
    "  def __next__(self) -> Tuple[Task, float]:\n",
    "    '''\n",
    "    We sort the tasks by their discounted_priority and return the task with the lowest discounted_priority.\n",
    "    We store the current tool and if the task requires a different tool we change the tool.\n",
    "    '''\n",
    "    if len(self.tasks) == 0:\n",
    "      raise StopIteration\n",
    "\n",
    "    self.tasks.sort(\n",
    "        key=lambda task: task.discounted_priority(self.current_tool))\n",
    "    # pop the task with the lowest discounted_priority\n",
    "    task = self.tasks.pop(0)\n",
    "    self.worst_wait_time = max(self.worst_wait_time, datetime.now() - task.created_at)\n",
    "    \n",
    "    discounted_priority: float = task.discounted_priority(self.current_tool)\n",
    "    if self.current_tool != task.requires_tool:\n",
    "      self.least_priority_tool_change = task.priority.value\n",
    "      print(f\"\\t--- Changing tool from {self.current_tool} to {task.requires_tool} at priority {task.priority} ---\")\n",
    "      self.tool_change_count += 1\n",
    "    self.current_tool = task.requires_tool\n",
    "    return task, discounted_priority\n",
    " \n",
    "  def __len__(self) -> int:\n",
    "    return len(self.tasks)\n",
    "  \n",
    "  def __repr__(self) -> str:\n",
    "    msg = \"\"\n",
    "    tasks = sorted(\n",
    "        self.tasks, key=lambda task: task.discounted_priority(self.current_tool))\n",
    "    for task in tasks:\n",
    "      msg += f\" {task.requires_tool}: {task.discounted_priority(self.current_tool)} |\"\n",
    "    return msg"
   ]
  },
  {
   "attachments": {},
   "cell_type": "markdown",
   "metadata": {},
   "source": [
    "### Example"
   ]
  },
  {
   "cell_type": "code",
   "execution_count": 98,
   "metadata": {},
   "outputs": [],
   "source": [
    "from time import sleep\n",
    "\n",
    "DUR_BTW_TASKS = 0.1\n",
    "\n",
    "tq = SortingTaskQueue()\n",
    "tq.add(Task(1, Tool.A))\n",
    "sleep(DUR_BTW_TASKS)\n",
    "tq.add(GcodeTask(Priority.HIGH.value, Tool.A, gcode=\"G1 X1 Y1\"))\n",
    "sleep(DUR_BTW_TASKS)\n",
    "tq.add(Task(7, Tool.B))\n",
    "sleep(DUR_BTW_TASKS)\n",
    "tq.add(Task(1, Tool.C))\n",
    "sleep(DUR_BTW_TASKS)\n",
    "tq.add(Task(7, Tool.A))\n",
    "sleep(DUR_BTW_TASKS)\n",
    "tq.add(Task(1, Tool.A))\n",
    "sleep(DUR_BTW_TASKS)\n",
    "tq.add(Task(1, Tool.B))\n",
    "sleep(DUR_BTW_TASKS)\n",
    "tq.add(Task(7, Tool.C))\n",
    "sleep(DUR_BTW_TASKS)\n",
    "tq.add(Task(0, Tool.D))"
   ]
  },
  {
   "cell_type": "code",
   "execution_count": 99,
   "metadata": {},
   "outputs": [
    {
     "ename": "AttributeError",
     "evalue": "'int' object has no attribute 'value'",
     "output_type": "error",
     "traceback": [
      "\u001b[0;31m---------------------------------------------------------------------------\u001b[0m",
      "\u001b[0;31mAttributeError\u001b[0m                            Traceback (most recent call last)",
      "Cell \u001b[0;32mIn [99], line 1\u001b[0m\n\u001b[0;32m----> 1\u001b[0m \u001b[39mfor\u001b[39;00m t \u001b[39min\u001b[39;00m tq:\n\u001b[1;32m      2\u001b[0m   \u001b[39mprint\u001b[39m(t)\n\u001b[1;32m      3\u001b[0m   \u001b[39mprint\u001b[39m(tq)\n",
      "Cell \u001b[0;32mIn [97], line 32\u001b[0m, in \u001b[0;36mTaskQueue.__next__\u001b[0;34m(self)\u001b[0m\n\u001b[1;32m     29\u001b[0m \u001b[39mif\u001b[39;00m \u001b[39mlen\u001b[39m(\u001b[39mself\u001b[39m\u001b[39m.\u001b[39mtasks) \u001b[39m==\u001b[39m \u001b[39m0\u001b[39m:\n\u001b[1;32m     30\u001b[0m   \u001b[39mraise\u001b[39;00m \u001b[39mStopIteration\u001b[39;00m\n\u001b[0;32m---> 32\u001b[0m \u001b[39mself\u001b[39;49m\u001b[39m.\u001b[39;49mtasks\u001b[39m.\u001b[39;49msort(\n\u001b[1;32m     33\u001b[0m     key\u001b[39m=\u001b[39;49m\u001b[39mlambda\u001b[39;49;00m task: task\u001b[39m.\u001b[39;49mdiscounted_priority(\u001b[39mself\u001b[39;49m\u001b[39m.\u001b[39;49mcurrent_tool))\n\u001b[1;32m     34\u001b[0m \u001b[39m# pop the task with the lowest discounted_priority\u001b[39;00m\n\u001b[1;32m     35\u001b[0m task \u001b[39m=\u001b[39m \u001b[39mself\u001b[39m\u001b[39m.\u001b[39mtasks\u001b[39m.\u001b[39mpop(\u001b[39m0\u001b[39m)\n",
      "Cell \u001b[0;32mIn [97], line 33\u001b[0m, in \u001b[0;36mTaskQueue.__next__.<locals>.<lambda>\u001b[0;34m(task)\u001b[0m\n\u001b[1;32m     29\u001b[0m \u001b[39mif\u001b[39;00m \u001b[39mlen\u001b[39m(\u001b[39mself\u001b[39m\u001b[39m.\u001b[39mtasks) \u001b[39m==\u001b[39m \u001b[39m0\u001b[39m:\n\u001b[1;32m     30\u001b[0m   \u001b[39mraise\u001b[39;00m \u001b[39mStopIteration\u001b[39;00m\n\u001b[1;32m     32\u001b[0m \u001b[39mself\u001b[39m\u001b[39m.\u001b[39mtasks\u001b[39m.\u001b[39msort(\n\u001b[0;32m---> 33\u001b[0m     key\u001b[39m=\u001b[39m\u001b[39mlambda\u001b[39;00m task: task\u001b[39m.\u001b[39;49mdiscounted_priority(\u001b[39mself\u001b[39;49m\u001b[39m.\u001b[39;49mcurrent_tool))\n\u001b[1;32m     34\u001b[0m \u001b[39m# pop the task with the lowest discounted_priority\u001b[39;00m\n\u001b[1;32m     35\u001b[0m task \u001b[39m=\u001b[39m \u001b[39mself\u001b[39m\u001b[39m.\u001b[39mtasks\u001b[39m.\u001b[39mpop(\u001b[39m0\u001b[39m)\n",
      "Cell \u001b[0;32mIn [93], line 25\u001b[0m, in \u001b[0;36mTask.discounted_priority\u001b[0;34m(self, current_tool)\u001b[0m\n\u001b[1;32m     23\u001b[0m \u001b[39m# discount = 0.95 ** (duration / 60.0) # The discount is 0.95 every minute.\u001b[39;00m\n\u001b[1;32m     24\u001b[0m discount \u001b[39m=\u001b[39m \u001b[39m0.5\u001b[39m \u001b[39m*\u001b[39m\u001b[39m*\u001b[39m (duration \u001b[39m/\u001b[39m \u001b[39m5.0\u001b[39m) \u001b[39m# The discount is 0.95 every second.\u001b[39;00m\n\u001b[0;32m---> 25\u001b[0m discounted_priority \u001b[39m=\u001b[39m \u001b[39mfloat\u001b[39m(\u001b[39mself\u001b[39;49m\u001b[39m.\u001b[39;49mpriority\u001b[39m.\u001b[39;49mvalue) \u001b[39m*\u001b[39m discount\n\u001b[1;32m     26\u001b[0m offset_from_urget \u001b[39m=\u001b[39m \u001b[39m0.001\u001b[39m \u001b[39m# This is a hack to make sure urgent tasks are always executed first.\u001b[39;00m\n\u001b[1;32m     27\u001b[0m \u001b[39mreturn\u001b[39;00m tool_change_cost(current_tool, \u001b[39mself\u001b[39m\u001b[39m.\u001b[39mrequires_tool) \u001b[39m*\u001b[39m discounted_priority \u001b[39m+\u001b[39m offset_from_urget\n",
      "\u001b[0;31mAttributeError\u001b[0m: 'int' object has no attribute 'value'"
     ]
    }
   ],
   "source": [
    "for t in tq:\n",
    "  print(t)\n",
    "  print(tq)"
   ]
  },
  {
   "attachments": {},
   "cell_type": "markdown",
   "metadata": {},
   "source": [
    "## Asymptotic Analysis"
   ]
  },
  {
   "cell_type": "code",
   "execution_count": 73,
   "metadata": {},
   "outputs": [
    {
     "name": "stdout",
     "output_type": "stream",
     "text": [
      "Requirement already satisfied: numpy in /opt/homebrew/lib/python3.10/site-packages (1.23.4)\n",
      "Requirement already satisfied: matplotlib in /opt/homebrew/lib/python3.10/site-packages (3.6.3)\n",
      "Requirement already satisfied: wandb in /opt/homebrew/lib/python3.10/site-packages (0.13.9)\n",
      "Requirement already satisfied: fonttools>=4.22.0 in /opt/homebrew/lib/python3.10/site-packages (from matplotlib) (4.38.0)\n",
      "Requirement already satisfied: pillow>=6.2.0 in /opt/homebrew/lib/python3.10/site-packages (from matplotlib) (9.4.0)\n",
      "Requirement already satisfied: kiwisolver>=1.0.1 in /opt/homebrew/lib/python3.10/site-packages (from matplotlib) (1.4.4)\n",
      "Requirement already satisfied: packaging>=20.0 in /opt/homebrew/Cellar/sip/6.7.3/libexec/lib/python3.10/site-packages (from matplotlib) (21.3)\n",
      "Requirement already satisfied: pyparsing>=2.2.1 in /opt/homebrew/Cellar/sip/6.7.3/libexec/lib/python3.10/site-packages (from matplotlib) (3.0.9)\n",
      "Requirement already satisfied: cycler>=0.10 in /opt/homebrew/lib/python3.10/site-packages (from matplotlib) (0.11.0)\n",
      "Requirement already satisfied: python-dateutil>=2.7 in /Users/satyamtiwary/Library/Python/3.10/lib/python/site-packages (from matplotlib) (2.8.2)\n",
      "Requirement already satisfied: contourpy>=1.0.1 in /opt/homebrew/lib/python3.10/site-packages (from matplotlib) (1.0.7)\n",
      "Requirement already satisfied: pathtools in /opt/homebrew/lib/python3.10/site-packages (from wandb) (0.1.2)\n",
      "Requirement already satisfied: GitPython>=1.0.0 in /opt/homebrew/lib/python3.10/site-packages (from wandb) (3.1.30)\n",
      "Requirement already satisfied: sentry-sdk>=1.0.0 in /opt/homebrew/lib/python3.10/site-packages (from wandb) (1.13.0)\n",
      "Requirement already satisfied: setuptools in /opt/homebrew/lib/python3.10/site-packages (from wandb) (65.4.1)\n",
      "Requirement already satisfied: protobuf!=4.21.0,<5,>=3.19.0 in /opt/homebrew/lib/python3.10/site-packages (from wandb) (4.21.9)\n",
      "Requirement already satisfied: Click!=8.0.0,>=7.0 in /opt/homebrew/lib/python3.10/site-packages (from wandb) (8.1.3)\n",
      "Requirement already satisfied: psutil>=5.0.0 in /Users/satyamtiwary/Library/Python/3.10/lib/python/site-packages (from wandb) (5.9.2)\n",
      "Requirement already satisfied: setproctitle in /opt/homebrew/lib/python3.10/site-packages (from wandb) (1.3.2)\n",
      "Requirement already satisfied: requests<3,>=2.0.0 in /opt/homebrew/lib/python3.10/site-packages (from wandb) (2.28.2)\n",
      "Requirement already satisfied: docker-pycreds>=0.4.0 in /opt/homebrew/lib/python3.10/site-packages (from wandb) (0.4.0)\n",
      "Requirement already satisfied: PyYAML in /opt/homebrew/lib/python3.10/site-packages (from wandb) (6.0)\n",
      "Requirement already satisfied: appdirs>=1.4.3 in /opt/homebrew/lib/python3.10/site-packages (from wandb) (1.4.4)\n",
      "Requirement already satisfied: six>=1.4.0 in /Users/satyamtiwary/Library/Python/3.10/lib/python/site-packages (from docker-pycreds>=0.4.0->wandb) (1.16.0)\n",
      "Requirement already satisfied: gitdb<5,>=4.0.1 in /opt/homebrew/lib/python3.10/site-packages (from GitPython>=1.0.0->wandb) (4.0.10)\n",
      "Requirement already satisfied: urllib3<1.27,>=1.21.1 in /opt/homebrew/lib/python3.10/site-packages (from requests<3,>=2.0.0->wandb) (1.26.14)\n",
      "Requirement already satisfied: certifi>=2017.4.17 in /opt/homebrew/lib/python3.10/site-packages (from requests<3,>=2.0.0->wandb) (2022.9.24)\n",
      "Requirement already satisfied: idna<4,>=2.5 in /Users/satyamtiwary/Library/Python/3.10/lib/python/site-packages (from requests<3,>=2.0.0->wandb) (3.4)\n",
      "Requirement already satisfied: charset-normalizer<4,>=2 in /opt/homebrew/lib/python3.10/site-packages (from requests<3,>=2.0.0->wandb) (3.0.1)\n",
      "Requirement already satisfied: smmap<6,>=3.0.1 in /opt/homebrew/lib/python3.10/site-packages (from gitdb<5,>=4.0.1->GitPython>=1.0.0->wandb) (5.0.0)\n",
      "\n",
      "\u001b[1m[\u001b[0m\u001b[34;49mnotice\u001b[0m\u001b[1;39;49m]\u001b[0m\u001b[39;49m A new release of pip available: \u001b[0m\u001b[31;49m22.2.2\u001b[0m\u001b[39;49m -> \u001b[0m\u001b[32;49m22.3.1\u001b[0m\n",
      "\u001b[1m[\u001b[0m\u001b[34;49mnotice\u001b[0m\u001b[1;39;49m]\u001b[0m\u001b[39;49m To update, run: \u001b[0m\u001b[32;49mpython3.10 -m pip install --upgrade pip\u001b[0m\n"
     ]
    }
   ],
   "source": [
    "!pip3 install numpy matplotlib wandb"
   ]
  },
  {
   "cell_type": "code",
   "execution_count": 14,
   "metadata": {},
   "outputs": [
    {
     "data": {
      "text/html": [
       "Finishing last run (ID:0xznoapn) before initializing another..."
      ],
      "text/plain": [
       "<IPython.core.display.HTML object>"
      ]
     },
     "metadata": {},
     "output_type": "display_data"
    },
    {
     "data": {
      "text/html": [
       "Waiting for W&B process to finish... <strong style=\"color:green\">(success).</strong>"
      ],
      "text/plain": [
       "<IPython.core.display.HTML object>"
      ]
     },
     "metadata": {},
     "output_type": "display_data"
    },
    {
     "data": {
      "application/vnd.jupyter.widget-view+json": {
       "model_id": "ea888c2c0c7643219e96e99ec7e81c11",
       "version_major": 2,
       "version_minor": 0
      },
      "text/plain": [
       "VBox(children=(Label(value='0.001 MB of 0.001 MB uploaded (0.000 MB deduped)\\r'), FloatProgress(value=1.0, max…"
      ]
     },
     "metadata": {},
     "output_type": "display_data"
    },
    {
     "data": {
      "text/html": [
       "<style>\n",
       "    table.wandb td:nth-child(1) { padding: 0 10px; text-align: left ; width: auto;} td:nth-child(2) {text-align: left ; width: 100%}\n",
       "    .wandb-row { display: flex; flex-direction: row; flex-wrap: wrap; justify-content: flex-start; width: 100% }\n",
       "    .wandb-col { display: flex; flex-direction: column; flex-basis: 100%; flex: 1; padding: 10px; }\n",
       "    </style>\n",
       "<div class=\"wandb-row\"><div class=\"wandb-col\"><h3>Run history:</h3><br/><table class=\"wandb\"><tr><td>least_priority_tool_change</td><td>▁▃███████</td></tr><tr><td>queue_size</td><td>▁▂▃▃▄▅▆▆▇█</td></tr><tr><td>runtime</td><td>▁████▇▇██</td></tr><tr><td>space_complexity</td><td>▁▁▁▁▁▁▁▁▁</td></tr><tr><td>time_complexity</td><td>▁▂▃▃▄▅▆▇█</td></tr><tr><td>tool_change_count</td><td>▁▁▁▂▄▄▅▇█</td></tr><tr><td>worst_wait_time</td><td>▁▂▃▃▄▅▆▇█</td></tr></table><br/></div><div class=\"wandb-col\"><h3>Run summary:</h3><br/><table class=\"wandb\"><tr><td>least_priority_tool_change</td><td>6</td></tr><tr><td>queue_size</td><td>225</td></tr><tr><td>runtime</td><td>1.10025</td></tr><tr><td>space_complexity</td><td>48</td></tr><tr><td>time_complexity</td><td>220.05049</td></tr><tr><td>tool_change_count</td><td>123</td></tr><tr><td>worst_wait_time</td><td>219.13192</td></tr></table><br/></div></div>"
      ],
      "text/plain": [
       "<IPython.core.display.HTML object>"
      ]
     },
     "metadata": {},
     "output_type": "display_data"
    },
    {
     "data": {
      "text/html": [
       " View run <strong style=\"color:#cdcd00\">treasured-breeze-14</strong> at: <a href=\"https://wandb.ai/technoculture/mintoolpq/runs/0xznoapn\" target=\"_blank\">https://wandb.ai/technoculture/mintoolpq/runs/0xznoapn</a><br/>Synced 5 W&B file(s), 0 media file(s), 0 artifact file(s) and 0 other file(s)"
      ],
      "text/plain": [
       "<IPython.core.display.HTML object>"
      ]
     },
     "metadata": {},
     "output_type": "display_data"
    },
    {
     "data": {
      "text/html": [
       "Find logs at: <code>./wandb/run-20230116_142051-0xznoapn/logs</code>"
      ],
      "text/plain": [
       "<IPython.core.display.HTML object>"
      ]
     },
     "metadata": {},
     "output_type": "display_data"
    },
    {
     "data": {
      "text/html": [
       "Successfully finished last run (ID:0xznoapn). Initializing new run:<br/>"
      ],
      "text/plain": [
       "<IPython.core.display.HTML object>"
      ]
     },
     "metadata": {},
     "output_type": "display_data"
    },
    {
     "data": {
      "application/vnd.jupyter.widget-view+json": {
       "model_id": "b8fc430d3eea45938f9a68160d883c51",
       "version_major": 2,
       "version_minor": 0
      },
      "text/plain": [
       "VBox(children=(Label(value='Waiting for wandb.init()...\\r'), FloatProgress(value=0.01675111041695345, max=1.0)…"
      ]
     },
     "metadata": {},
     "output_type": "display_data"
    },
    {
     "data": {
      "text/html": [
       "Tracking run with wandb version 0.13.9"
      ],
      "text/plain": [
       "<IPython.core.display.HTML object>"
      ]
     },
     "metadata": {},
     "output_type": "display_data"
    },
    {
     "data": {
      "text/html": [
       "Run data is saved locally in <code>/Users/satyamtiwary/Documents/Projects/Genotyper/Genotyper-Firmware/genotyper/notebooks/wandb/run-20230116_143821-xuv5o74r</code>"
      ],
      "text/plain": [
       "<IPython.core.display.HTML object>"
      ]
     },
     "metadata": {},
     "output_type": "display_data"
    },
    {
     "data": {
      "text/html": [
       "Syncing run <strong><a href=\"https://wandb.ai/technoculture/mintoolpq/runs/xuv5o74r\" target=\"_blank\">deft-sunset-15</a></strong> to <a href=\"https://wandb.ai/technoculture/mintoolpq\" target=\"_blank\">Weights & Biases</a> (<a href=\"https://wandb.me/run\" target=\"_blank\">docs</a>)<br/>"
      ],
      "text/plain": [
       "<IPython.core.display.HTML object>"
      ]
     },
     "metadata": {},
     "output_type": "display_data"
    },
    {
     "data": {
      "text/html": [
       " View project at <a href=\"https://wandb.ai/technoculture/mintoolpq\" target=\"_blank\">https://wandb.ai/technoculture/mintoolpq</a>"
      ],
      "text/plain": [
       "<IPython.core.display.HTML object>"
      ]
     },
     "metadata": {},
     "output_type": "display_data"
    },
    {
     "data": {
      "text/html": [
       " View run at <a href=\"https://wandb.ai/technoculture/mintoolpq/runs/xuv5o74r\" target=\"_blank\">https://wandb.ai/technoculture/mintoolpq/runs/xuv5o74r</a>"
      ],
      "text/plain": [
       "<IPython.core.display.HTML object>"
      ]
     },
     "metadata": {},
     "output_type": "display_data"
    }
   ],
   "source": [
    "import wandb\n",
    "run = wandb.init(project=\"mintoolpq\")"
   ]
  },
  {
   "cell_type": "code",
   "execution_count": 48,
   "metadata": {},
   "outputs": [
    {
     "ename": "Error",
     "evalue": "You must call wandb.init() before wandb.log()",
     "output_type": "error",
     "traceback": [
      "\u001b[0;31m---------------------------------------------------------------------------\u001b[0m",
      "\u001b[0;31mError\u001b[0m                                     Traceback (most recent call last)",
      "Cell \u001b[0;32mIn [48], line 26\u001b[0m\n\u001b[1;32m     24\u001b[0m queue_size_ \u001b[39m=\u001b[39m \u001b[39mlen\u001b[39m(tq)\n\u001b[1;32m     25\u001b[0m queue_size\u001b[39m.\u001b[39mappend(queue_size_)\n\u001b[0;32m---> 26\u001b[0m wandb\u001b[39m.\u001b[39;49mlog({\u001b[39m\"\u001b[39;49m\u001b[39mqueue_size\u001b[39;49m\u001b[39m\"\u001b[39;49m: queue_size_})  \n\u001b[1;32m     27\u001b[0m \u001b[39m# ---\u001b[39;00m\n\u001b[1;32m     29\u001b[0m start \u001b[39m=\u001b[39m datetime\u001b[39m.\u001b[39mnow()\n",
      "File \u001b[0;32m/opt/homebrew/lib/python3.10/site-packages/wandb/sdk/lib/preinit.py:36\u001b[0m, in \u001b[0;36mPreInitCallable.<locals>.preinit_wrapper\u001b[0;34m(*args, **kwargs)\u001b[0m\n\u001b[1;32m     35\u001b[0m \u001b[39mdef\u001b[39;00m \u001b[39mpreinit_wrapper\u001b[39m(\u001b[39m*\u001b[39margs: Any, \u001b[39m*\u001b[39m\u001b[39m*\u001b[39mkwargs: Any) \u001b[39m-\u001b[39m\u001b[39m>\u001b[39m Any:\n\u001b[0;32m---> 36\u001b[0m     \u001b[39mraise\u001b[39;00m wandb\u001b[39m.\u001b[39mError(\u001b[39mf\u001b[39m\u001b[39m\"\u001b[39m\u001b[39mYou must call wandb.init() before \u001b[39m\u001b[39m{\u001b[39;00mname\u001b[39m}\u001b[39;00m\u001b[39m()\u001b[39m\u001b[39m\"\u001b[39m)\n",
      "\u001b[0;31mError\u001b[0m: You must call wandb.init() before wandb.log()"
     ]
    }
   ],
   "source": [
    "import numpy as np\n",
    "import matplotlib.pyplot as plt\n",
    "from sys import getsizeof\n",
    "\n",
    "np.random.seed(42)\n",
    "task_count = np.arange(0, 200, 33)\n",
    "\n",
    "queue_size = []\n",
    "time_complexity = []\n",
    "space_complexity = []\n",
    "tool_change_count = []\n",
    "tool_change_priority = []\n",
    "worst_wait_time = []\n",
    "runtime = []\n",
    "\n",
    "for n in task_count:\n",
    "  tasks = [GcodeTask(p, t, gcode=g) for p, t, g in zip(\n",
    "    np.random.randint(1, 7, n), \n",
    "    np.random.choice(list(Tool), n), \n",
    "    np.random.choice([\"G01 X100 Y50 F500\", \"G01 Y100 F200\", \"G28\"], n))]\n",
    "  tq = SortingTaskQueue(tasks)\n",
    "\n",
    "  # Log the data\n",
    "  queue_size_ = len(tq)\n",
    "  queue_size.append(queue_size_)\n",
    "  wandb.log({\"queue_size\": queue_size_})  \n",
    "  # ---\n",
    "\n",
    "  start = datetime.now()\n",
    "  for t in tq:\n",
    "    sleep(np.random.uniform(0, 2))\n",
    "    pass\n",
    "  end = datetime.now()\n",
    "\n",
    "  # Log the data\n",
    "  ## Unimportant\n",
    "  tool_change_count_ = tq.tool_change_count\n",
    "  tool_change_count.append(tool_change_count_)\n",
    "  wandb.log({\"tool_change_count\": tool_change_count_})\n",
    "\n",
    "  tool_change_priority_ = tq.least_priority_tool_change\n",
    "  tool_change_priority.append(tool_change_priority_)\n",
    "  wandb.log({\"least_priority_tool_change\": tool_change_priority_})\n",
    "  \n",
    "  delta_ = (end - start).total_seconds()\n",
    "  time_complexity.append(delta_)\n",
    "  wandb.log({\"time_complexity\": delta_})\n",
    "\n",
    "  size_ = getsizeof(tq)\n",
    "  space_complexity.append(size_)\n",
    "  wandb.log({\"space_complexity\": size_})\n",
    "\n",
    "  worst_wait_time_ = tq.worst_wait_time.total_seconds()\n",
    "  worst_wait_time.append(worst_wait_time_)\n",
    "  wandb.log({\"worst_wait_time\": worst_wait_time_})\n",
    "\n",
    "  runtime_ = (end - start).total_seconds() / n if n > 0 else 0\n",
    "  runtime.append(runtime_)\n",
    "  wandb.log({\"runtime\": runtime_})\n",
    "\n",
    "  print(f\"n: {n}, time: {delta_}, tool_change_count: {tool_change_count_}\")\n",
    "  ## Unimportant -- end\n",
    "run.finish()"
   ]
  },
  {
   "cell_type": "code",
   "execution_count": 47,
   "metadata": {},
   "outputs": [
    {
     "data": {
      "text/plain": [
       "Text(0, 0.5, 'Average Wait Time (s)')"
      ]
     },
     "execution_count": 47,
     "metadata": {},
     "output_type": "execute_result"
    },
    {
     "data": {
      "image/png": "[encoded data removed]",
      "text/plain": [
       "<Figure size 2000x1000 with 4 Axes>"
      ]
     },
     "metadata": {},
     "output_type": "display_data"
    }
   ],
   "source": [
    "time_complexity = np.array(time_complexity)\n",
    "worst_wait_time = np.array(worst_wait_time)\n",
    "tool_change_count = np.array(tool_change_count)\n",
    "average_wait_time = np.array(runtime)\n",
    "\n",
    "fig, ax = plt.subplots(2, 2, figsize=(20, 10))\n",
    "\n",
    "ax[0, 0].plot(task_count, time_complexity)\n",
    "ax[0, 1].plot(task_count, tool_change_count)\n",
    "ax[1, 1].plot(task_count, worst_wait_time)\n",
    "ax[1, 0].plot(task_count, average_wait_time) # This is the average wait time per task.\n",
    "\n",
    "ax[0, 0].set_title(\"Time Complexity\")\n",
    "ax[0, 1].set_title(\"Tool Change Count\")\n",
    "ax[1, 1].set_title(\"Worst Wait Time\")\n",
    "ax[1, 0].set_title(\"Average Wait Time\")\n",
    "\n",
    "ax[0, 0].set_xlabel(\"Task Count\")\n",
    "ax[0, 1].set_xlabel(\"Task Count\")\n",
    "ax[1, 1].set_xlabel(\"Task Count\")\n",
    "ax[1, 0].set_xlabel(\"Task Count\")\n",
    "\n",
    "ax[0, 0].set_ylabel(\"Time (s)\")\n",
    "ax[0, 1].set_ylabel(\"Tool Change Count\")\n",
    "ax[1, 1].set_ylabel(\"Worst Wait Time (s)\")\n",
    "ax[1, 0].set_ylabel(\"Average Wait Time (s)\")"
   ]
  },
  {
   "attachments": {},
   "cell_type": "markdown",
   "metadata": {},
   "source": [
    "# Priority Queue per Tool"
   ]
  },
  {
   "cell_type": "code",
   "execution_count": 90,
   "metadata": {},
   "outputs": [
    {
     "ename": "AttributeError",
     "evalue": "'list' object has no attribute 'values'",
     "output_type": "error",
     "traceback": [
      "\u001b[0;31m---------------------------------------------------------------------------\u001b[0m",
      "\u001b[0;31mAttributeError\u001b[0m                            Traceback (most recent call last)",
      "Cell \u001b[0;32mIn [90], line 44\u001b[0m\n\u001b[1;32m     41\u001b[0m tqa\u001b[39m.\u001b[39madd(Task(\u001b[39m1\u001b[39m, Tool\u001b[39m.\u001b[39mA))\n\u001b[1;32m     42\u001b[0m tqa\u001b[39m.\u001b[39madd(Task(\u001b[39m1\u001b[39m, Tool\u001b[39m.\u001b[39mA))\n\u001b[0;32m---> 44\u001b[0m tqa\u001b[39m.\u001b[39;49mnet_fomo\n\u001b[1;32m     45\u001b[0m tqa\u001b[39m.\u001b[39mpop()\n\u001b[1;32m     46\u001b[0m tqa\u001b[39m.\u001b[39mnet_fomo\n",
      "Cell \u001b[0;32mIn [90], line 24\u001b[0m, in \u001b[0;36mToolQ.net_fomo\u001b[0;34m(self)\u001b[0m\n\u001b[1;32m     22\u001b[0m \u001b[39m@property\u001b[39m\n\u001b[1;32m     23\u001b[0m \u001b[39mdef\u001b[39;00m \u001b[39mnet_fomo\u001b[39m(\u001b[39mself\u001b[39m) \u001b[39m-\u001b[39m\u001b[39m>\u001b[39m \u001b[39mfloat\u001b[39m:\n\u001b[0;32m---> 24\u001b[0m   \u001b[39mreturn\u001b[39;00m \u001b[39msum\u001b[39m([t\u001b[39m.\u001b[39mpriority \u001b[39mfor\u001b[39;00m t \u001b[39min\u001b[39;00m \u001b[39mself\u001b[39;49m\u001b[39m.\u001b[39;49mtasks\u001b[39m.\u001b[39;49mqueue\u001b[39m.\u001b[39;49mvalues()])\n",
      "\u001b[0;31mAttributeError\u001b[0m: 'list' object has no attribute 'values'"
     ]
    }
   ],
   "source": [
    "from typing import List, Tuple\n",
    "from queue import PriorityQueue\n",
    "from datetime import timedelta\n",
    "\n",
    "@dataclass\n",
    "class ToolQ:\n",
    "  tool: Tool\n",
    "  tasks: PriorityQueue[Tuple[Priority, Task]] = field(default_factory=PriorityQueue)\n",
    "\n",
    "  def add(self, task: Task):\n",
    "    self.tasks.put((task.priority, task))\n",
    "\n",
    "  def pop(self) -> Task:\n",
    "    return self.tasks.get()\n",
    "\n",
    "  def __lt__(self, other):\n",
    "    return self.net_fomo < other.net_fomo\n",
    "\n",
    "  def __eq__(self, other):\n",
    "    return self.net_fomo == other.net_fomo\n",
    "\n",
    "  @property\n",
    "  def net_fomo(self) -> float:\n",
    "    return sum([t.priority for t in self.tasks.queue.values()])\n",
    "\n",
    "  def __repr__(self):\n",
    "    return f\"{self.tool}: {self.net_fomo}\"\n",
    "\n",
    "# taskQueue: PriorityQueue[Tuple[int, Task]] = PriorityQueue()\n",
    "\n",
    "# taskQueue.put((7, Task(7, Tool.B)))\n",
    "# taskQueue.put((7, Task(7, Tool.B)))\n",
    "# taskQueue.put((1, Task(1, Tool.A)))\n",
    "# taskQueue.put((1, Task(1, Tool.C)))\n",
    "\n",
    "tqa = ToolQ(Tool.A)\n",
    "tqb = ToolQ(Tool.B)\n",
    "\n",
    "tqa.add(Task(7, Tool.A))\n",
    "tqa.add(Task(7, Tool.A))\n",
    "tqa.add(Task(1, Tool.A))\n",
    "tqa.add(Task(1, Tool.A))\n",
    "\n",
    "tqa.net_fomo\n",
    "tqa.pop()\n",
    "tqa.net_fomo"
   ]
  },
  {
   "cell_type": "code",
   "execution_count": 35,
   "metadata": {},
   "outputs": [],
   "source": [
    "@dataclass\n",
    "class MultiToolPQ:\n",
    "  '''\n",
    "  A set of priority queues, one for each tool.\n",
    "  '''\n",
    "  current_tool: Tool\n",
    "  # tool_pqs: Dict[Tool, SortingTaskQueue] = field(default_factory=dict)\n"
   ]
  },
  {
   "cell_type": "code",
   "execution_count": null,
   "metadata": {},
   "outputs": [],
   "source": []
  }
 ],
 "metadata": {
  "kernelspec": {
   "display_name": "Python 3",
   "language": "python",
   "name": "python3"
  },
  "language_info": {
   "codemirror_mode": {
    "name": "ipython",
    "version": 3
   },
   "file_extension": ".py",
   "mimetype": "text/x-python",
   "name": "python",
   "nbconvert_exporter": "python",
   "pygments_lexer": "ipython3",
   "version": "3.10.8 (main, Oct 13 2022, 09:48:40) [Clang 14.0.0 (clang-1400.0.29.102)]"
  },
  "orig_nbformat": 4,
  "vscode": {
   "interpreter": {
    "hash": "b0fa6594d8f4cbf19f97940f81e996739fb7646882a419484c72d19e05852a7e"
   }
  }
 },
 "nbformat": 4,
 "nbformat_minor": 2
}
