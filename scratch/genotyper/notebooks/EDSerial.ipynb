{
 "cells": [
  {
   "cell_type": "code",
   "execution_count": 59,
   "metadata": {},
   "outputs": [
    {
     "data": {
      "text/plain": [
       "b'Hell'"
      ]
     },
     "execution_count": 59,
     "metadata": {},
     "output_type": "execute_result"
    }
   ],
   "source": [
    "from dataclasses import dataclass\n",
    "from typing import List, Protocol, Optional, Self\n",
    "from abc import ABC, abstractmethod\n",
    "\n",
    "@dataclass\n",
    "class SerialSettings:\n",
    "    port: str\n",
    "    baudrate: 9600 | 115200\n",
    "    timeout: int\n",
    "\n",
    "\n",
    "class SerialLifecycle(Protocol):\n",
    "    def onConnect(self):\n",
    "        pass\n",
    "    \n",
    "    def onDisconnect(self):\n",
    "        pass\n",
    "\n",
    "    def onTimeout(self):\n",
    "        pass\n",
    "\n",
    "    def onAck(self):\n",
    "        pass\n",
    "\n",
    "\n",
    "class SerialConnection(ABC):\n",
    "    @abstractmethod\n",
    "    def __init__(self, settings: SerialSettings, lifecycle: Optional[SerialLifecycle]) -> Self:\n",
    "        raise NotImplementedError()\n",
    "\n",
    "    @abstractmethod\n",
    "    def write(self, data: bytes) -> None:\n",
    "        raise NotImplementedError()\n",
    "\n",
    "    @abstractmethod\n",
    "    def write_ack(self) -> None:\n",
    "        raise NotImplementedError()\n",
    "\n",
    "    @abstractmethod\n",
    "    def read(self, size: int) -> bytes:\n",
    "        raise NotImplementedError()\n",
    "\n",
    "    @abstractmethod\n",
    "    def readline(self) -> bytes:\n",
    "        raise NotImplementedError()\n",
    "\n",
    "    def onConnect(self) -> None:\n",
    "        serialLifecycle.onConnect() if serialLifecycle else None\n",
    "    \n",
    "    def onDisconnect(self) -> None:\n",
    "        serialLifecycle.onDisconnect() if serialLifecycle else None\n",
    "\n",
    "    def onTimeout(self) -> None:\n",
    "        serialLifecycle.onTimeout() if serialLifecycle else None\n",
    "\n",
    "    def onAck(self) -> None:\n",
    "        serialLifecycle.onAck() if serialLifecycle else None\n",
    "\n",
    "\n",
    "class SerialConnectionMock(SerialConnection):\n",
    "    def __init__(self, settings: SerialSettings, lifecycle: Optional[SerialLifecycle]):\n",
    "        self._buffer: bytes = b''\n",
    "\n",
    "    def write(self, data: bytes):\n",
    "        self._buffer += data\n",
    "\n",
    "    def write_ack(self):\n",
    "        self.write(b'ACK')\n",
    "        self.flush()\n",
    "        if self.read(3) != b'ACK':\n",
    "          raise Exception('ACK not received')\n",
    "        self.onAck()\n",
    "\n",
    "    def read(self, size: int):\n",
    "        data = self._buffer[:size]\n",
    "        self._buffer = self._buffer[size:]\n",
    "        return data\n",
    "\n",
    "\n",
    "serial = SerialMock(settings=SerialSettingsMock(port=\"COM1\", baudrate=9600, timeout=1))\n",
    "serial.write(b'Hello\\nWorld\\n')\n",
    "serial.read(4)\n",
    "# word1 = serial.readline()\n",
    "# word2 = serial.readline()\n",
    "# print(word1, word2)"
   ]
  },
  {
   "cell_type": "code",
   "execution_count": null,
   "metadata": {},
   "outputs": [],
   "source": []
  }
 ],
 "metadata": {
  "kernelspec": {
   "display_name": "Python 3",
   "language": "python",
   "name": "python3"
  },
  "language_info": {
   "codemirror_mode": {
    "name": "ipython",
    "version": 3
   },
   "file_extension": ".py",
   "mimetype": "text/x-python",
   "name": "python",
   "nbconvert_exporter": "python",
   "pygments_lexer": "ipython3",
   "version": "3.11.1"
  },
  "orig_nbformat": 4,
  "vscode": {
   "interpreter": {
    "hash": "aee8b7b246df8f9039afb4144a1f6fd8d2ca17a180786b69acc140d282b71a49"
   }
  }
 },
 "nbformat": 4,
 "nbformat_minor": 2
}
