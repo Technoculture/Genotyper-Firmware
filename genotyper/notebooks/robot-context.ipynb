{
 "cells": [
  {
   "cell_type": "code",
   "execution_count": 88,
   "metadata": {},
   "outputs": [],
   "source": [
    "# Find robot's operational context\n",
    "\n",
    "from enum import Enum\n",
    "import platform\n",
    "from devtools import debug\n",
    "from dataclasses import dataclass\n",
    "\n",
    "\n",
    "class UnsupportedHardware(Exception):\n",
    "    def __init__(self):\n",
    "        super().__init__()\n",
    "        self.message = \"This hardware device is unsupported.\"\n",
    "\n",
    "\n",
    "class ProcessorFamily(str, Enum):\n",
    "    ARM = \"arm\"\n",
    "    X86 = \"x86\"\n",
    "\n",
    "\n",
    "class OperatingSystem(str, Enum):\n",
    "    LINUX = \"linux\"\n",
    "    OSX = \"osx\"\n",
    "\n",
    "\n",
    "@dataclass\n",
    "class SystemInfo:\n",
    "    arch: ProcessorFamily\n",
    "    os: OperatingSystem\n",
    "\n",
    "\n",
    "def _get_architecture():\n",
    "    match platform.processor():\n",
    "        case 'i386' | 'x86_64': \n",
    "            return ProcessorFamily.X86\n",
    "        case 'arm':\n",
    "            return ProcessorFamily.ARM\n",
    "        case _:\n",
    "            raise UnsupportedHardware()\n",
    "\n",
    "\n",
    "def _get_os():\n",
    "    match platform.system():\n",
    "        case 'Linux':\n",
    "            return OperatingSystem.Linux\n",
    "        case 'Darwin':\n",
    "            return OperatingSystem.OSX\n",
    "        case _:\n",
    "            raise UnsupportedHardware()\n",
    "\n",
    "\n",
    "# Only make this once\n",
    "_system_info: SystemInfo = SystemInfo(arch=_get_architecture(), os=_get_os())\n",
    "_on_host: bool = False\n",
    "\n",
    "match _system_info:\n",
    "    case SystemInfo(arch=ProcessorFamily.ARM, os=OperatingSystem.Linux):\n",
    "        _on_host = False\n",
    "    case _:\n",
    "        _on_host = True\n",
    "\n",
    "_on_target: bool = !_on_host\n",
    "\n",
    "\n",
    "def get_system_info():\n",
    "    return _system_info\n",
    "\n",
    "\n",
    "def isTarget():\n",
    "    return _on_target"
   ]
  },
  {
   "cell_type": "code",
   "execution_count": 89,
   "metadata": {},
   "outputs": [
    {
     "data": {
      "text/plain": [
       "SystemInfo(arch=<ProcessorFamily.X86: 'x86'>, os=<OperatingSystem.OSX: 'osx'>)"
      ]
     },
     "execution_count": 89,
     "metadata": {},
     "output_type": "execute_result"
    }
   ],
   "source": [
    "get_system_info()"
   ]
  },
  {
   "cell_type": "code",
   "execution_count": null,
   "metadata": {},
   "outputs": [],
   "source": []
  }
 ],
 "metadata": {
  "interpreter": {
   "hash": "a3229797164e98309895a25335d7a31257641e7039ebcafb4b93ca24d825acbe"
  },
  "kernelspec": {
   "display_name": "Python 3 (ipykernel)",
   "language": "python",
   "name": "python3"
  },
  "language_info": {
   "codemirror_mode": {
    "name": "ipython",
    "version": 3
   },
   "file_extension": ".py",
   "mimetype": "text/x-python",
   "name": "python",
   "nbconvert_exporter": "python",
   "pygments_lexer": "ipython3",
   "version": "3.11.1"
  }
 },
 "nbformat": 4,
 "nbformat_minor": 4
}
