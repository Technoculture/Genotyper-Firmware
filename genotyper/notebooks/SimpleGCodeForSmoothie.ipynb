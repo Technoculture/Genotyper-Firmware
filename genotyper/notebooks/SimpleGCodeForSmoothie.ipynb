{
 "cells": [
  {
   "cell_type": "code",
   "execution_count": 312,
   "id": "08449afe-00a0-4271-8aeb-22584677ed29",
   "metadata": {},
   "outputs": [
    {
     "name": "stdout",
     "output_type": "stream",
     "text": [
      "G28 \n",
      "G1 20 100 20\n",
      "G1 100 100 0\n",
      "G28 \n"
     ]
    }
   ],
   "source": [
    "from dataclasses import dataclass, field\n",
    "from enum import Enum, auto, StrEnum\n",
    "from typing import Optional, Dict, Self, Generic, TypeVar, List, Iterator, NamedTuple, Protocol\n",
    "from collections import namedtuple\n",
    "\n",
    "\n",
    "class EmitsGcode(Protocol):\n",
    "    def gcode(self) -> str:\n",
    "        ...\n",
    "\n",
    "class CommandType(Enum):\n",
    "    GO_HOME = auto()\n",
    "    GO_XY = auto()\n",
    "\n",
    "\n",
    "class CommandInfo(NamedTuple):\n",
    "    gcode: str\n",
    "    fields: List[str]\n",
    "    description: Optional[str] = None\n",
    "\n",
    "\n",
    "_command_to_info: Dict[CommandType, CommandInfo] = {\n",
    "    CommandType.GO_HOME: CommandInfo(\"G28\", [], \"Go to home position\"),\n",
    "    CommandType.GO_XY: CommandInfo(\"G1\", [\"x\", \"y\", \"z\"], \"Go to specified XY position\"),\n",
    "}\n",
    "\n",
    "\n",
    "Numeric = TypeVar(\"Numeric\", int, float)\n",
    "\n",
    "\n",
    "# @dataclass\n",
    "# class Coordinate:\n",
    "#     x: Optional[Numeric] = None\n",
    "#     y: Optional[Numeric] = None\n",
    "#     z: Optional[Numeric] = None\n",
    "\n",
    "\n",
    "class Coordinate(NamedTuple):\n",
    "    x: Optional[Numeric] = None\n",
    "    y: Optional[Numeric] = None\n",
    "    z: Optional[Numeric] = None\n",
    "\n",
    "    def gcode(self) -> Iterator[str]:\n",
    "        return \" \".join([f\"{v}\" for _, v in self._asdict().items() if v is not None])\n",
    "\n",
    "\n",
    "_hardcoded_locations: Dict[str, Coordinate] = {\n",
    "    \"tiprack\": Coordinate(20, 100, 20),\n",
    "    \"trash\": Coordinate(0, 0, 0),\n",
    "    \"home\": Coordinate(100, 100, 0),\n",
    "}\n",
    "\n",
    "\n",
    "class NamedLocation(StrEnum):\n",
    "    TIPRACK = \"tiprack\"\n",
    "    TRASH = \"trash\"\n",
    "    HOME = \"home\"\n",
    "\n",
    "\n",
    "def HardcodedLocation(name: NamedLocation) -> Coordinate:\n",
    "    return _hardcoded_locations[name]\n",
    "\n",
    "\n",
    "@dataclass\n",
    "class GcodeCommand(EmitsGcode):\n",
    "    type: CommandType\n",
    "    arg: Optional[Coordinate] = None\n",
    "\n",
    "    def __post_init__(self):\n",
    "      try:\n",
    "        if self.arg is not None:\n",
    "          assert len(self.arg) == len(_command_to_info[self.type].fields)\n",
    "        else:\n",
    "          assert len(_command_to_info[self.type].fields) == 0\n",
    "      except AssertionError:\n",
    "        raise ValueError(f\"Command {self.type} expects {len(_command_to_info[self.type].fields)} arguments, but got {len(self.arg)}\")\n",
    "\n",
    "    def gcode(self) -> str:\n",
    "        return f\"{_command_to_info[self.type].gcode} {self.arg.gcode() if self.arg else ''}\"\n",
    "\n",
    "\n",
    "@dataclass\n",
    "class CommandSequence(EmitsGcode):\n",
    "    seq : list[GcodeCommand] = field(default_factory=list[GcodeCommand])\n",
    "\n",
    "    def __len__(self) -> int:\n",
    "        return len(self.seq)\n",
    "\n",
    "    def __add__(self, gc: GcodeCommand) -> Self:\n",
    "        self.seq.append(gc)\n",
    "        return self\n",
    "\n",
    "    def __iter__(self) -> Iterator[GcodeCommand]:\n",
    "        return iter(self.seq)\n",
    "\n",
    "    def gcode(self) -> str:\n",
    "        return \"\\n\".join([gc.gcode() for gc in self.seq])\n",
    "\n",
    "\n",
    "pick_tip = CommandSequence([\n",
    "    GcodeCommand(type=CommandType.GO_XY,\n",
    "                 arg=HardcodedLocation(NamedLocation.TIPRACK)),\n",
    "    GcodeCommand(type=CommandType.GO_XY, arg=HardcodedLocation(NamedLocation.HOME)),\n",
    "    GcodeCommand(type=CommandType.GO_HOME),\n",
    "])\n",
    "\n",
    "\n",
    "go_home = GcodeCommand(type=CommandType.GO_HOME)\n",
    "\n",
    "print(go_home.gcode())\n",
    "print(pick_tip.gcode())"
   ]
  },
  {
   "cell_type": "code",
   "execution_count": 313,
   "id": "56ae366d",
   "metadata": {},
   "outputs": [],
   "source": [
    "def run_through_serial_till_complete(gcode: str) -> None:\n",
    "    # print(gcode)\n",
    "    ..."
   ]
  },
  {
   "cell_type": "code",
   "execution_count": 314,
   "id": "a81ec356-3c5f-4212-a0c7-f02c81e57576",
   "metadata": {},
   "outputs": [],
   "source": [
    "def execute(cmd: CommandSequence) -> None:\n",
    "  print(\"Execution Start\")\n",
    "\n",
    "  try:\n",
    "    for index, gc in enumerate(cmd):\n",
    "      print(f\" | Executing Cmd#{index}: {gc.gcode()}\")\n",
    "      import time\n",
    "      time.sleep(1)\n",
    "      run_through_serial_till_complete(gc.gcode())\n",
    "\n",
    "    print(\"Execution Complete\")\n",
    "  except (KeyboardInterrupt) as e:\n",
    "    print(f\"Execution Failed\\n{e}\")"
   ]
  },
  {
   "cell_type": "code",
   "execution_count": 315,
   "id": "18b51b81-097f-4964-a19f-27e378abb823",
   "metadata": {},
   "outputs": [
    {
     "name": "stdout",
     "output_type": "stream",
     "text": [
      "Execution Start\n",
      " | Executing Cmd#0: G1 20 100 20\n",
      " | Executing Cmd#1: G1 100 100 0\n",
      " | Executing Cmd#2: G28 \n",
      "Execution Complete\n",
      "CommandSequence(seq=[GcodeCommand(type=<CommandType.GO_XY: 2>, arg=Coordinate(x=20, y=100, z=20)), GcodeCommand(type=<CommandType.GO_XY: 2>, arg=Coordinate(x=100, y=100, z=0)), GcodeCommand(type=<CommandType.GO_HOME: 1>, arg=None)])\n"
     ]
    }
   ],
   "source": [
    "execute(pick_tip)\n",
    "print(pick_tip)"
   ]
  },
  {
   "cell_type": "code",
   "execution_count": null,
   "id": "29deb82d",
   "metadata": {},
   "outputs": [],
   "source": []
  }
 ],
 "metadata": {
  "kernelspec": {
   "display_name": "Python 3",
   "language": "python",
   "name": "python3"
  },
  "language_info": {
   "codemirror_mode": {
    "name": "ipython",
    "version": 3
   },
   "file_extension": ".py",
   "mimetype": "text/x-python",
   "name": "python",
   "nbconvert_exporter": "python",
   "pygments_lexer": "ipython3",
   "version": "3.11.1"
  },
  "vscode": {
   "interpreter": {
    "hash": "aee8b7b246df8f9039afb4144a1f6fd8d2ca17a180786b69acc140d282b71a49"
   }
  }
 },
 "nbformat": 4,
 "nbformat_minor": 5
}
