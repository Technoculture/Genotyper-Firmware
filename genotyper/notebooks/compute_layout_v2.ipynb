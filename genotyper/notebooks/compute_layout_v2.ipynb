{
 "cells": [
  {
   "cell_type": "code",
   "execution_count": 1,
   "metadata": {},
   "outputs": [],
   "source": [
    "from typing import List, Optional\n",
    "from pydantic import BaseModel, validator\n",
    "from functools import total_ordering\n",
    "\n",
    "\n",
    "@total_ordering\n",
    "class BoundingBox(BaseModel):\n",
    "    \"\"\"Bounding Box value type holds sizes in all three dimensions (in mm).\n",
    "    These sizes indicate the maximum size that an entity takes in each of the three dimensions.\n",
    "    \"\"\"\n",
    "\n",
    "    length: Optional[int] = 0\n",
    "    width: Optional[int] = 0\n",
    "    height: Optional[int] = 0\n",
    "\n",
    "    @validator(\"length\", \"width\", \"height\")\n",
    "    def sizes_must_be_non_negative(cls, value: int) -> int:\n",
    "        \"\"\"ensure that none of the sizes are negative numbers\"\"\"\n",
    "        if value < 0:\n",
    "            raise ValueError(\"each of the sizes must be positive\")\n",
    "        return value\n",
    "\n",
    "    @property\n",
    "    def base_area(self) -> int:\n",
    "        '''\n",
    "        calculate the base area of the bouding box, assuming that the dimensions length and width lie at the base of the box. If the box is rotated in an axis such that the base area is not represented by the rectangle formed by the length and the width. This function would return incorrect base_area\n",
    "        '''\n",
    "        return self.length * self.width\n",
    "    \n",
    "    @property\n",
    "    def volume(self) -> int:\n",
    "        \"\"\"calculate volume of the cuboidal bounding box\"\"\"\n",
    "        return self.length * self.width * self.height\n",
    "    \n",
    "    def __lt__(self, other: 'BoundingBox') -> bool:\n",
    "        \"\"\"a bounding box is less than another bounding box Only IF, one can contain another inside it. It means all the sizes of a bounding box must be less than that of another for it to be lesser\"\"\"\n",
    "        return (self.length < other.length) and (self.width < other.width) and (self.height < other.height)\n",
    "\n",
    "\n",
    "class Offset(BaseModel):\n",
    "    \"\"\"Offset from a given origin (0,0,0) in mm.\"\"\"\n",
    "\n",
    "    x: int = 0\n",
    "    y: int = 0\n",
    "    z: int = 0\n",
    "\n",
    "\n",
    "class Constraints(BaseModel):\n",
    "    \"\"\"Hold Bounding Boxes for Available Working Region, along with offsets that may further shrink this volume.\n",
    "    Available Working Region is the region available for placement of modules.\n",
    "    \"\"\"\n",
    "\n",
    "    working_region_bounding_box: BoundingBox\n",
    "    pipette_bounding_box: BoundingBox\n",
    "    pipette_offset: Offset\n",
    "\n",
    "\n",
    "class Module(BaseModel):\n",
    "    \"\"\"Any module must provide a name and a bounding box.\"\"\"\n",
    "\n",
    "    name: str\n",
    "    bounding_box: BoundingBox\n",
    "    offset: Optional[Offset]\n",
    "\n",
    "\n",
    "class Layout(BaseModel):\n",
    "    \"\"\"A layout model is the top most model for parsing and representing the contents of gero's layout file\n",
    "    This contains both the constraints that limit layoutability, as well as bounding box and positional concerns of the modules that are to be provisioned in the layout.\n",
    "    \"\"\"\n",
    "\n",
    "    constraints: Constraints\n",
    "    modules: List[Module]\n",
    "\n",
    "    def is_feasible(self) -> bool:\n",
    "        return self.bounding_box() < self.constraints.working_region_bounding_box\n",
    "\n",
    "    @property\n",
    "    def length(self) -> int:\n",
    "        return sum([m.bounding_box.length for m in self.modules])\n",
    "\n",
    "    @property\n",
    "    def width(self) -> int:\n",
    "        return max([m.bounding_box.height for m in self.modules])\n",
    "    \n",
    "    @property\n",
    "    def height(self) -> int:\n",
    "        return max([m.bounding_box.height for m in self.modules])\n",
    "\n",
    "    def bounding_box(self) -> BoundingBox:\n",
    "        return BoundingBox(length=self.length, width=self.width, height=self.height)"
   ]
  },
  {
   "cell_type": "code",
   "execution_count": 2,
   "metadata": {},
   "outputs": [
    {
     "name": "stdout",
     "output_type": "stream",
     "text": [
      "/var/folders/xt/9n774sxj6b91lrv0h_5stwdw0000gn/T/ipykernel_68056/33998114.py:16 <module>\n",
      "    layout.is_feasible(): True (bool)\n"
     ]
    }
   ],
   "source": [
    "from json import load\n",
    "from pydantic import ValidationError\n",
    "from devtools import debug\n",
    "\n",
    "file = \"../sample_config_files/.gero/computed_layout.json\"\n",
    "\n",
    "with open(file=file) as f:\n",
    "    data = load(f)\n",
    "    # debug(data)\n",
    "\n",
    "    try:\n",
    "        layout = Layout(**data)\n",
    "    except ValidationError as e:\n",
    "        print(e)\n",
    "\n",
    "    debug(layout.is_feasible())\n",
    "    \n",
    "    # debug(layout.constraints)\n",
    "    # debug(layout.modules)\n"
   ]
  },
  {
   "cell_type": "code",
   "execution_count": 3,
   "metadata": {},
   "outputs": [
    {
     "name": "stdout",
     "output_type": "stream",
     "text": [
      "<class '__main__.BoundingBox'>\n",
      "area=165750mm^2, vol=31492500mm^3\n"
     ]
    }
   ],
   "source": [
    "wbox = layout.constraints.pipette_bounding_box\n",
    "print(type(wbox))\n",
    "\n",
    "print(f\"area={wbox.base_area}mm^2, vol={wbox.volume}mm^3\")"
   ]
  },
  {
   "cell_type": "code",
   "execution_count": 4,
   "metadata": {},
   "outputs": [],
   "source": [
    "constraint = Constraints(\n",
    "    working_region_bounding_box=BoundingBox(), \n",
    "    pipette_bounding_box=BoundingBox(), \n",
    "    pipette_offset=Offset()\n",
    "    )\n",
    "\n",
    "modules = []\n",
    "\n",
    "layout = Layout(constraints=constraint, modules=modules)"
   ]
  },
  {
   "cell_type": "code",
   "execution_count": null,
   "metadata": {},
   "outputs": [],
   "source": []
  }
 ],
 "metadata": {
  "interpreter": {
   "hash": "a3229797164e98309895a25335d7a31257641e7039ebcafb4b93ca24d825acbe"
  },
  "kernelspec": {
   "display_name": "Python 3 (ipykernel)",
   "language": "python",
   "name": "python3"
  },
  "language_info": {
   "codemirror_mode": {
    "name": "ipython",
    "version": 3
   },
   "file_extension": ".py",
   "mimetype": "text/x-python",
   "name": "python",
   "nbconvert_exporter": "python",
   "pygments_lexer": "ipython3",
   "version": "3.11.1"
  }
 },
 "nbformat": 4,
 "nbformat_minor": 4
}
