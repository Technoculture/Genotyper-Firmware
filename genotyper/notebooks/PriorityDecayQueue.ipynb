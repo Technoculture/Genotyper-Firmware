{
 "cells": [
  {
   "attachments": {},
   "cell_type": "markdown",
   "metadata": {},
   "source": [
    "# Priority Decay Queue\n",
    "> Priority Queue with Minimal Tool Change"
   ]
  },
  {
   "attachments": {},
   "cell_type": "markdown",
   "metadata": {},
   "source": [
    "## Objective\n",
    "- Minimize the number of tool changes\n",
    "- Prioritize high priority tasks\n",
    "- Increase the priority of task depending on how long it has been waiting\n",
    "- Provide a way to declare a task as URGENT"
   ]
  },
  {
   "cell_type": "code",
   "execution_count": 65,
   "metadata": {},
   "outputs": [],
   "source": [
    "from dataclasses import dataclass, field\n",
    "from datetime import datetime\n",
    "from enum import Enum, auto\n",
    "from typing import Tuple\n",
    "\n",
    "\n",
    "class Tool(Enum): # (Enum, str) not ok\n",
    "  Empty = auto()\n",
    "  A = auto()\n",
    "  B = auto()\n",
    "  C = auto()\n",
    "  D = auto()\n",
    "\n",
    "\n",
    "def tool_change_cost(tool1: Tool, tool2: Tool) -> float:\n",
    "  if tool1 == tool2:\n",
    "    return 0.0\n",
    "  else:\n",
    "    return 1.0\n"
   ]
  },
  {
   "attachments": {},
   "cell_type": "markdown",
   "metadata": {},
   "source": [
    "## `discounted_priority`: Priority, Tool Change, Creation Time"
   ]
  },
  {
   "cell_type": "code",
   "execution_count": 66,
   "metadata": {},
   "outputs": [],
   "source": [
    "class Priority(Enum):\n",
    "  URGENT = 0\n",
    "  VERY_HIGH = 1\n",
    "  HIGH = 2\n",
    "  MODERATE_HIGH = 3\n",
    "  MODERATE = 4\n",
    "  MODERATE_LOW = 5\n",
    "  LOW = 6\n",
    "  VERY_LOW = 7"
   ]
  },
  {
   "cell_type": "code",
   "execution_count": 67,
   "metadata": {},
   "outputs": [],
   "source": [
    "@dataclass\n",
    "class Task:\n",
    "  '''\n",
    "  A task is defined by its priority, the tool it requires, and the time it was created.\n",
    "  '''\n",
    "  priority: Priority\n",
    "  requires_tool: Tool\n",
    "  created_at: datetime = field(default_factory=datetime.now)\n",
    "\n",
    "  def discounted_priority(self, current_tool: Tool) -> float:\n",
    "    '''\n",
    "    The discounted_priority of a task is the cost of changing tools plus the discounted priority.\n",
    "    - The cost of changing to the same tool is 0.0\n",
    "    - The cost of changing to a different tool is 1.0\n",
    "    - The discounted_priority of a task is the cost of changing tools plus the discounted priority.\n",
    "    - The discount allows the priority to decay over time. This means that tasks that are older are more important. \n",
    "    - The discounted_priority of a task is 0.0 if the priority is 0, which means it is urgent. This is a hack to make sure urgent tasks are always executed first.\n",
    "    '''\n",
    "    if self.priority == Priority.URGENT:\n",
    "      return 0.0\n",
    "    \n",
    "    duration = (datetime.now() - self.created_at).total_seconds()\n",
    "    # discount = 0.95 ** (duration / 60.0) # The discount is 0.95 every minute.\n",
    "    discount = 0.5 ** (duration / 0.5) # The discount is 0.95 every second.\n",
    "    discounted_priority = self.priority * discount\n",
    "    offset_from_urget = 0.001 # This is a hack to make sure urgent tasks are always executed first.\n",
    "    return tool_change_cost(current_tool, self.requires_tool) * discounted_priority + offset_from_urget"
   ]
  },
  {
   "cell_type": "code",
   "execution_count": 68,
   "metadata": {},
   "outputs": [
    {
     "name": "stdout",
     "output_type": "stream",
     "text": [
      "Task(priority=1, requires_tool=<Tool.A: 2>, created_at=datetime.datetime(2023, 1, 16, 12, 14, 49, 629102)) Task(priority=<Priority.HIGH: 2>, requires_tool=<Tool.B: 3>, created_at=datetime.datetime(2023, 1, 16, 12, 14, 49, 629124))\n"
     ]
    }
   ],
   "source": [
    "a = Task(1, Tool.A)\n",
    "b = Task(Priority.HIGH, Tool.B)\n",
    "print(a, b)"
   ]
  },
  {
   "attachments": {},
   "cell_type": "markdown",
   "metadata": {},
   "source": [
    "# Prioritise by Sorting Cost\n",
    "rather than using a priority queue/heap queue"
   ]
  },
  {
   "cell_type": "code",
   "execution_count": 69,
   "metadata": {},
   "outputs": [],
   "source": [
    "from datetime import timedelta\n",
    "\n",
    "@dataclass\n",
    "class TaskQueue:\n",
    "  '''\n",
    "  A task queue is a list of tasks that can be iterated over.\n",
    "  '''\n",
    "  tasks: list[Task] = field(default_factory=list)\n",
    "  current_tool: Tool = Tool.Empty\n",
    "\n",
    "  tool_change_count: int = 0\n",
    "  least_priority_tool_change: float = 0.0\n",
    "  worst_wait_time: timedelta = timedelta(seconds=0) \n",
    "\n",
    "  def add(self, task: Task) -> None:\n",
    "    self.tasks.append(task)\n",
    "\n",
    "  def __iter__(self) -> 'Self':\n",
    "    '''\n",
    "    This is a hack to make the TaskQueue iterable.\n",
    "    '''\n",
    "    return self\n",
    "\n",
    "  def __next__(self) -> Tuple[Task, float]:\n",
    "    '''\n",
    "    We sort the tasks by their discounted_priority and return the task with the lowest discounted_priority.\n",
    "    We store the current tool and if the task requires a different tool we change the tool.\n",
    "    '''\n",
    "    if len(self.tasks) == 0:\n",
    "      raise StopIteration\n",
    "\n",
    "    self.tasks.sort(\n",
    "        key=lambda task: task.discounted_priority(self.current_tool))\n",
    "    # pop the task with the lowest discounted_priority\n",
    "    task = self.tasks.pop(0)\n",
    "    self.worst_wait_time = max(self.worst_wait_time, datetime.now() - task.created_at)\n",
    "    \n",
    "    discounted_priority: float = task.discounted_priority(self.current_tool)\n",
    "    if self.current_tool != task.requires_tool:\n",
    "      self.least_priority_tool_change = max(\n",
    "          self.least_priority_tool_change, task.priority)\n",
    "      print(f\"\\t--- Changing tool from {self.current_tool} to {task.requires_tool} at priority {task.priority} ---\")\n",
    "      self.tool_change_count += 1\n",
    "    self.current_tool = task.requires_tool\n",
    "    return task, discounted_priority\n",
    " \n",
    "  def __len__(self) -> int:\n",
    "    return len(self.tasks)\n",
    "  \n",
    "  def __repr__(self) -> str:\n",
    "    msg = \"\"\n",
    "    tasks = sorted(\n",
    "        self.tasks, key=lambda task: task.discounted_priority(self.current_tool))\n",
    "    for task in tasks:\n",
    "      msg += f\" {task.requires_tool}: {task.discounted_priority(self.current_tool)} |\"\n",
    "    return msg"
   ]
  },
  {
   "attachments": {},
   "cell_type": "markdown",
   "metadata": {},
   "source": [
    "### Example"
   ]
  },
  {
   "cell_type": "code",
   "execution_count": 70,
   "metadata": {},
   "outputs": [],
   "source": [
    "from time import sleep\n",
    "\n",
    "DUR_BTW_TASKS = 1.0\n",
    "\n",
    "tq = TaskQueue()\n",
    "tq.add(Task(1, Tool.A))\n",
    "sleep(DUR_BTW_TASKS)\n",
    "tq.add(Task(7, Tool.B))\n",
    "sleep(DUR_BTW_TASKS)\n",
    "tq.add(Task(7, Tool.B))\n",
    "sleep(DUR_BTW_TASKS)\n",
    "tq.add(Task(1, Tool.C))\n",
    "sleep(DUR_BTW_TASKS)\n",
    "tq.add(Task(7, Tool.A))\n",
    "sleep(DUR_BTW_TASKS)\n",
    "tq.add(Task(1, Tool.A))\n",
    "sleep(DUR_BTW_TASKS)\n",
    "tq.add(Task(1, Tool.B))\n",
    "sleep(DUR_BTW_TASKS)\n",
    "tq.add(Task(7, Tool.C))\n",
    "sleep(DUR_BTW_TASKS)\n",
    "tq.add(Task(0, Tool.D))"
   ]
  },
  {
   "cell_type": "code",
   "execution_count": 72,
   "metadata": {},
   "outputs": [],
   "source": [
    "for t in tq:\n",
    "  print(t)\n",
    "  print(tq)"
   ]
  },
  {
   "attachments": {},
   "cell_type": "markdown",
   "metadata": {},
   "source": [
    "# Asymptotic Analysis"
   ]
  },
  {
   "cell_type": "code",
   "execution_count": 73,
   "metadata": {},
   "outputs": [
    {
     "name": "stdout",
     "output_type": "stream",
     "text": [
      "Requirement already satisfied: numpy in /opt/homebrew/lib/python3.10/site-packages (1.23.4)\n",
      "Requirement already satisfied: matplotlib in /opt/homebrew/lib/python3.10/site-packages (3.6.3)\n",
      "Requirement already satisfied: wandb in /opt/homebrew/lib/python3.10/site-packages (0.13.9)\n",
      "Requirement already satisfied: fonttools>=4.22.0 in /opt/homebrew/lib/python3.10/site-packages (from matplotlib) (4.38.0)\n",
      "Requirement already satisfied: pillow>=6.2.0 in /opt/homebrew/lib/python3.10/site-packages (from matplotlib) (9.4.0)\n",
      "Requirement already satisfied: kiwisolver>=1.0.1 in /opt/homebrew/lib/python3.10/site-packages (from matplotlib) (1.4.4)\n",
      "Requirement already satisfied: packaging>=20.0 in /opt/homebrew/Cellar/sip/6.7.3/libexec/lib/python3.10/site-packages (from matplotlib) (21.3)\n",
      "Requirement already satisfied: pyparsing>=2.2.1 in /opt/homebrew/Cellar/sip/6.7.3/libexec/lib/python3.10/site-packages (from matplotlib) (3.0.9)\n",
      "Requirement already satisfied: cycler>=0.10 in /opt/homebrew/lib/python3.10/site-packages (from matplotlib) (0.11.0)\n",
      "Requirement already satisfied: python-dateutil>=2.7 in /Users/satyamtiwary/Library/Python/3.10/lib/python/site-packages (from matplotlib) (2.8.2)\n",
      "Requirement already satisfied: contourpy>=1.0.1 in /opt/homebrew/lib/python3.10/site-packages (from matplotlib) (1.0.7)\n",
      "Requirement already satisfied: pathtools in /opt/homebrew/lib/python3.10/site-packages (from wandb) (0.1.2)\n",
      "Requirement already satisfied: GitPython>=1.0.0 in /opt/homebrew/lib/python3.10/site-packages (from wandb) (3.1.30)\n",
      "Requirement already satisfied: sentry-sdk>=1.0.0 in /opt/homebrew/lib/python3.10/site-packages (from wandb) (1.13.0)\n",
      "Requirement already satisfied: setuptools in /opt/homebrew/lib/python3.10/site-packages (from wandb) (65.4.1)\n",
      "Requirement already satisfied: protobuf!=4.21.0,<5,>=3.19.0 in /opt/homebrew/lib/python3.10/site-packages (from wandb) (4.21.9)\n",
      "Requirement already satisfied: Click!=8.0.0,>=7.0 in /opt/homebrew/lib/python3.10/site-packages (from wandb) (8.1.3)\n",
      "Requirement already satisfied: psutil>=5.0.0 in /Users/satyamtiwary/Library/Python/3.10/lib/python/site-packages (from wandb) (5.9.2)\n",
      "Requirement already satisfied: setproctitle in /opt/homebrew/lib/python3.10/site-packages (from wandb) (1.3.2)\n",
      "Requirement already satisfied: requests<3,>=2.0.0 in /opt/homebrew/lib/python3.10/site-packages (from wandb) (2.28.2)\n",
      "Requirement already satisfied: docker-pycreds>=0.4.0 in /opt/homebrew/lib/python3.10/site-packages (from wandb) (0.4.0)\n",
      "Requirement already satisfied: PyYAML in /opt/homebrew/lib/python3.10/site-packages (from wandb) (6.0)\n",
      "Requirement already satisfied: appdirs>=1.4.3 in /opt/homebrew/lib/python3.10/site-packages (from wandb) (1.4.4)\n",
      "Requirement already satisfied: six>=1.4.0 in /Users/satyamtiwary/Library/Python/3.10/lib/python/site-packages (from docker-pycreds>=0.4.0->wandb) (1.16.0)\n",
      "Requirement already satisfied: gitdb<5,>=4.0.1 in /opt/homebrew/lib/python3.10/site-packages (from GitPython>=1.0.0->wandb) (4.0.10)\n",
      "Requirement already satisfied: urllib3<1.27,>=1.21.1 in /opt/homebrew/lib/python3.10/site-packages (from requests<3,>=2.0.0->wandb) (1.26.14)\n",
      "Requirement already satisfied: certifi>=2017.4.17 in /opt/homebrew/lib/python3.10/site-packages (from requests<3,>=2.0.0->wandb) (2022.9.24)\n",
      "Requirement already satisfied: idna<4,>=2.5 in /Users/satyamtiwary/Library/Python/3.10/lib/python/site-packages (from requests<3,>=2.0.0->wandb) (3.4)\n",
      "Requirement already satisfied: charset-normalizer<4,>=2 in /opt/homebrew/lib/python3.10/site-packages (from requests<3,>=2.0.0->wandb) (3.0.1)\n",
      "Requirement already satisfied: smmap<6,>=3.0.1 in /opt/homebrew/lib/python3.10/site-packages (from gitdb<5,>=4.0.1->GitPython>=1.0.0->wandb) (5.0.0)\n",
      "\n",
      "\u001b[1m[\u001b[0m\u001b[34;49mnotice\u001b[0m\u001b[1;39;49m]\u001b[0m\u001b[39;49m A new release of pip available: \u001b[0m\u001b[31;49m22.2.2\u001b[0m\u001b[39;49m -> \u001b[0m\u001b[32;49m22.3.1\u001b[0m\n",
      "\u001b[1m[\u001b[0m\u001b[34;49mnotice\u001b[0m\u001b[1;39;49m]\u001b[0m\u001b[39;49m To update, run: \u001b[0m\u001b[32;49mpython3.10 -m pip install --upgrade pip\u001b[0m\n"
     ]
    }
   ],
   "source": [
    "!pip3 install numpy matplotlib wandb"
   ]
  },
  {
   "cell_type": "code",
   "execution_count": 76,
   "metadata": {},
   "outputs": [
    {
     "data": {
      "application/vnd.jupyter.widget-view+json": {
       "model_id": "a596b44e848d49d6b38b6d9abedd98eb",
       "version_major": 2,
       "version_minor": 0
      },
      "text/plain": [
       "VBox(children=(Label(value='Waiting for wandb.init()...\\r'), FloatProgress(value=0.016751434716570656, max=1.0…"
      ]
     },
     "metadata": {},
     "output_type": "display_data"
    },
    {
     "data": {
      "text/html": [
       "Tracking run with wandb version 0.13.9"
      ],
      "text/plain": [
       "<IPython.core.display.HTML object>"
      ]
     },
     "metadata": {},
     "output_type": "display_data"
    },
    {
     "data": {
      "text/html": [
       "Run data is saved locally in <code>/Users/satyamtiwary/Documents/Projects/Genotyper/Genotyper-Firmware/genotyper/notebooks/wandb/run-20230116_122242-wbs72p3k</code>"
      ],
      "text/plain": [
       "<IPython.core.display.HTML object>"
      ]
     },
     "metadata": {},
     "output_type": "display_data"
    },
    {
     "data": {
      "text/html": [
       "Syncing run <strong><a href=\"https://wandb.ai/technoculture/mintoolpq/runs/wbs72p3k\" target=\"_blank\">vibrant-lake-13</a></strong> to <a href=\"https://wandb.ai/technoculture/mintoolpq\" target=\"_blank\">Weights & Biases</a> (<a href=\"https://wandb.me/run\" target=\"_blank\">docs</a>)<br/>"
      ],
      "text/plain": [
       "<IPython.core.display.HTML object>"
      ]
     },
     "metadata": {},
     "output_type": "display_data"
    },
    {
     "data": {
      "text/html": [
       " View project at <a href=\"https://wandb.ai/technoculture/mintoolpq\" target=\"_blank\">https://wandb.ai/technoculture/mintoolpq</a>"
      ],
      "text/plain": [
       "<IPython.core.display.HTML object>"
      ]
     },
     "metadata": {},
     "output_type": "display_data"
    },
    {
     "data": {
      "text/html": [
       " View run at <a href=\"https://wandb.ai/technoculture/mintoolpq/runs/wbs72p3k\" target=\"_blank\">https://wandb.ai/technoculture/mintoolpq/runs/wbs72p3k</a>"
      ],
      "text/plain": [
       "<IPython.core.display.HTML object>"
      ]
     },
     "metadata": {},
     "output_type": "display_data"
    }
   ],
   "source": [
    "import wandb\n",
    "run = wandb.init(project=\"mintoolpq\")"
   ]
  },
  {
   "cell_type": "code",
   "execution_count": 75,
   "metadata": {},
   "outputs": [
    {
     "name": "stdout",
     "output_type": "stream",
     "text": [
      "n: 0, time: 1.4e-05, tool_change_count: 0\n",
      "\t--- Changing tool from Tool.Empty to Tool.C at priority 1 ---\n",
      "\t--- Changing tool from Tool.C to Tool.B at priority 2 ---\n",
      "\t--- Changing tool from Tool.B to Tool.A at priority 2 ---\n",
      "\t--- Changing tool from Tool.A to Tool.D at priority 2 ---\n",
      "n: 25, time: 6.419272, tool_change_count: 4\n",
      "\t--- Changing tool from Tool.Empty to Tool.D at priority 1 ---\n",
      "\t--- Changing tool from Tool.D to Tool.C at priority 1 ---\n",
      "\t--- Changing tool from Tool.C to Tool.B at priority 1 ---\n",
      "\t--- Changing tool from Tool.B to Tool.A at priority 1 ---\n",
      "n: 50, time: 12.072542, tool_change_count: 4\n",
      "\t--- Changing tool from Tool.Empty to Tool.D at priority 1 ---\n",
      "\t--- Changing tool from Tool.D to Tool.C at priority 1 ---\n",
      "\t--- Changing tool from Tool.C to Tool.A at priority 1 ---\n",
      "\t--- Changing tool from Tool.A to Tool.B at priority 1 ---\n",
      "n: 75, time: 18.359654, tool_change_count: 4\n",
      "\t--- Changing tool from Tool.Empty to Tool.C at priority 1 ---\n",
      "\t--- Changing tool from Tool.C to Tool.B at priority 1 ---\n",
      "\t--- Changing tool from Tool.B to Tool.A at priority 1 ---\n",
      "\t--- Changing tool from Tool.A to Tool.D at priority 1 ---\n",
      "n: 100, time: 24.765708, tool_change_count: 4\n",
      "\t--- Changing tool from Tool.Empty to Tool.C at priority 1 ---\n",
      "\t--- Changing tool from Tool.C to Tool.D at priority 1 ---\n",
      "\t--- Changing tool from Tool.D to Tool.B at priority 1 ---\n",
      "\t--- Changing tool from Tool.B to Tool.A at priority 1 ---\n",
      "n: 125, time: 30.002883, tool_change_count: 4\n",
      "\t--- Changing tool from Tool.Empty to Tool.D at priority 1 ---\n",
      "\t--- Changing tool from Tool.D to Tool.A at priority 1 ---\n",
      "\t--- Changing tool from Tool.A to Tool.C at priority 1 ---\n",
      "\t--- Changing tool from Tool.C to Tool.B at priority 1 ---\n",
      "n: 150, time: 39.908814, tool_change_count: 4\n",
      "\t--- Changing tool from Tool.Empty to Tool.D at priority 1 ---\n",
      "\t--- Changing tool from Tool.D to Tool.B at priority 1 ---\n",
      "\t--- Changing tool from Tool.B to Tool.C at priority 1 ---\n",
      "\t--- Changing tool from Tool.C to Tool.A at priority 1 ---\n",
      "n: 175, time: 45.121031, tool_change_count: 4\n",
      "\t--- Changing tool from Tool.Empty to Tool.D at priority 1 ---\n",
      "\t--- Changing tool from Tool.D to Tool.B at priority 1 ---\n",
      "\t--- Changing tool from Tool.B to Tool.C at priority 1 ---\n",
      "\t--- Changing tool from Tool.C to Tool.A at priority 1 ---\n",
      "n: 200, time: 53.025117, tool_change_count: 4\n",
      "\t--- Changing tool from Tool.Empty to Tool.A at priority 1 ---\n",
      "\t--- Changing tool from Tool.A to Tool.C at priority 1 ---\n",
      "\t--- Changing tool from Tool.C to Tool.B at priority 1 ---\n",
      "\t--- Changing tool from Tool.B to Tool.D at priority 1 ---\n",
      "n: 225, time: 55.874857, tool_change_count: 4\n",
      "\t--- Changing tool from Tool.Empty to Tool.D at priority 1 ---\n",
      "\t--- Changing tool from Tool.D to Tool.B at priority 1 ---\n",
      "\t--- Changing tool from Tool.B to Tool.C at priority 1 ---\n",
      "\t--- Changing tool from Tool.C to Tool.A at priority 1 ---\n",
      "\t--- Changing tool from Tool.A to Tool.C at priority 1 ---\n",
      "\t--- Changing tool from Tool.C to Tool.A at priority 1 ---\n",
      "\t--- Changing tool from Tool.A to Tool.C at priority 2 ---\n",
      "\t--- Changing tool from Tool.C to Tool.A at priority 2 ---\n",
      "\t--- Changing tool from Tool.A to Tool.C at priority 2 ---\n",
      "\t--- Changing tool from Tool.C to Tool.A at priority 2 ---\n",
      "\t--- Changing tool from Tool.A to Tool.C at priority 2 ---\n",
      "\t--- Changing tool from Tool.C to Tool.A at priority 2 ---\n",
      "\t--- Changing tool from Tool.A to Tool.C at priority 2 ---\n",
      "\t--- Changing tool from Tool.C to Tool.A at priority 3 ---\n",
      "\t--- Changing tool from Tool.A to Tool.C at priority 3 ---\n",
      "\t--- Changing tool from Tool.C to Tool.A at priority 3 ---\n",
      "\t--- Changing tool from Tool.A to Tool.C at priority 3 ---\n",
      "\t--- Changing tool from Tool.C to Tool.A at priority 3 ---\n",
      "\t--- Changing tool from Tool.A to Tool.C at priority 3 ---\n",
      "\t--- Changing tool from Tool.C to Tool.A at priority 3 ---\n",
      "\t--- Changing tool from Tool.A to Tool.C at priority 3 ---\n",
      "\t--- Changing tool from Tool.C to Tool.A at priority 3 ---\n",
      "\t--- Changing tool from Tool.A to Tool.C at priority 3 ---\n",
      "\t--- Changing tool from Tool.C to Tool.A at priority 3 ---\n",
      "\t--- Changing tool from Tool.A to Tool.C at priority 4 ---\n",
      "\t--- Changing tool from Tool.C to Tool.A at priority 4 ---\n",
      "\t--- Changing tool from Tool.A to Tool.C at priority 4 ---\n",
      "\t--- Changing tool from Tool.C to Tool.A at priority 4 ---\n",
      "\t--- Changing tool from Tool.A to Tool.C at priority 4 ---\n",
      "\t--- Changing tool from Tool.C to Tool.A at priority 4 ---\n",
      "\t--- Changing tool from Tool.A to Tool.C at priority 4 ---\n",
      "\t--- Changing tool from Tool.C to Tool.A at priority 5 ---\n",
      "\t--- Changing tool from Tool.A to Tool.C at priority 5 ---\n",
      "\t--- Changing tool from Tool.C to Tool.A at priority 5 ---\n",
      "\t--- Changing tool from Tool.A to Tool.C at priority 5 ---\n",
      "\t--- Changing tool from Tool.C to Tool.A at priority 5 ---\n",
      "\t--- Changing tool from Tool.A to Tool.C at priority 5 ---\n",
      "\t--- Changing tool from Tool.C to Tool.A at priority 5 ---\n",
      "\t--- Changing tool from Tool.A to Tool.C at priority 6 ---\n",
      "\t--- Changing tool from Tool.C to Tool.A at priority 6 ---\n",
      "\t--- Changing tool from Tool.A to Tool.C at priority 6 ---\n",
      "\t--- Changing tool from Tool.C to Tool.A at priority 6 ---\n",
      "\t--- Changing tool from Tool.A to Tool.C at priority 6 ---\n",
      "\t--- Changing tool from Tool.C to Tool.A at priority 6 ---\n",
      "\t--- Changing tool from Tool.A to Tool.C at priority 6 ---\n",
      "\t--- Changing tool from Tool.C to Tool.A at priority 6 ---\n",
      "n: 250, time: 66.504991, tool_change_count: 46\n",
      "\t--- Changing tool from Tool.Empty to Tool.B at priority 1 ---\n",
      "\t--- Changing tool from Tool.B to Tool.A at priority 1 ---\n",
      "\t--- Changing tool from Tool.A to Tool.C at priority 1 ---\n",
      "\t--- Changing tool from Tool.C to Tool.D at priority 1 ---\n",
      "\t--- Changing tool from Tool.D to Tool.C at priority 1 ---\n",
      "\t--- Changing tool from Tool.C to Tool.D at priority 1 ---\n",
      "\t--- Changing tool from Tool.D to Tool.C at priority 1 ---\n",
      "\t--- Changing tool from Tool.C to Tool.D at priority 1 ---\n",
      "\t--- Changing tool from Tool.D to Tool.C at priority 1 ---\n",
      "\t--- Changing tool from Tool.C to Tool.D at priority 1 ---\n",
      "\t--- Changing tool from Tool.D to Tool.C at priority 1 ---\n",
      "\t--- Changing tool from Tool.C to Tool.D at priority 2 ---\n",
      "\t--- Changing tool from Tool.D to Tool.C at priority 2 ---\n",
      "\t--- Changing tool from Tool.C to Tool.D at priority 2 ---\n",
      "\t--- Changing tool from Tool.D to Tool.C at priority 2 ---\n",
      "\t--- Changing tool from Tool.C to Tool.D at priority 2 ---\n",
      "\t--- Changing tool from Tool.D to Tool.C at priority 2 ---\n",
      "\t--- Changing tool from Tool.C to Tool.D at priority 2 ---\n",
      "\t--- Changing tool from Tool.D to Tool.C at priority 2 ---\n",
      "\t--- Changing tool from Tool.C to Tool.D at priority 3 ---\n",
      "\t--- Changing tool from Tool.D to Tool.C at priority 3 ---\n",
      "\t--- Changing tool from Tool.C to Tool.D at priority 3 ---\n",
      "\t--- Changing tool from Tool.D to Tool.C at priority 3 ---\n",
      "\t--- Changing tool from Tool.C to Tool.D at priority 3 ---\n",
      "\t--- Changing tool from Tool.D to Tool.C at priority 4 ---\n",
      "\t--- Changing tool from Tool.C to Tool.D at priority 4 ---\n",
      "\t--- Changing tool from Tool.D to Tool.C at priority 4 ---\n",
      "\t--- Changing tool from Tool.C to Tool.D at priority 4 ---\n",
      "\t--- Changing tool from Tool.D to Tool.C at priority 4 ---\n",
      "\t--- Changing tool from Tool.C to Tool.D at priority 4 ---\n",
      "\t--- Changing tool from Tool.D to Tool.C at priority 4 ---\n",
      "\t--- Changing tool from Tool.C to Tool.D at priority 4 ---\n",
      "\t--- Changing tool from Tool.D to Tool.C at priority 4 ---\n",
      "\t--- Changing tool from Tool.C to Tool.D at priority 4 ---\n",
      "\t--- Changing tool from Tool.D to Tool.C at priority 4 ---\n",
      "\t--- Changing tool from Tool.C to Tool.D at priority 5 ---\n",
      "\t--- Changing tool from Tool.D to Tool.C at priority 5 ---\n",
      "\t--- Changing tool from Tool.C to Tool.D at priority 5 ---\n",
      "\t--- Changing tool from Tool.D to Tool.C at priority 5 ---\n",
      "\t--- Changing tool from Tool.C to Tool.D at priority 5 ---\n",
      "\t--- Changing tool from Tool.D to Tool.C at priority 5 ---\n",
      "\t--- Changing tool from Tool.C to Tool.D at priority 5 ---\n",
      "\t--- Changing tool from Tool.D to Tool.C at priority 5 ---\n",
      "\t--- Changing tool from Tool.C to Tool.D at priority 5 ---\n",
      "\t--- Changing tool from Tool.D to Tool.C at priority 5 ---\n",
      "\t--- Changing tool from Tool.C to Tool.D at priority 5 ---\n",
      "\t--- Changing tool from Tool.D to Tool.C at priority 5 ---\n",
      "\t--- Changing tool from Tool.C to Tool.D at priority 6 ---\n",
      "\t--- Changing tool from Tool.D to Tool.C at priority 6 ---\n",
      "\t--- Changing tool from Tool.C to Tool.D at priority 6 ---\n",
      "\t--- Changing tool from Tool.D to Tool.C at priority 6 ---\n",
      "\t--- Changing tool from Tool.C to Tool.D at priority 6 ---\n",
      "\t--- Changing tool from Tool.D to Tool.C at priority 6 ---\n",
      "\t--- Changing tool from Tool.C to Tool.D at priority 6 ---\n",
      "\t--- Changing tool from Tool.D to Tool.C at priority 6 ---\n",
      "\t--- Changing tool from Tool.C to Tool.D at priority 6 ---\n",
      "\t--- Changing tool from Tool.D to Tool.C at priority 6 ---\n",
      "\t--- Changing tool from Tool.C to Tool.D at priority 6 ---\n",
      "\t--- Changing tool from Tool.D to Tool.C at priority 6 ---\n",
      "\t--- Changing tool from Tool.C to Tool.D at priority 6 ---\n",
      "n: 275, time: 64.505565, tool_change_count: 60\n"
     ]
    },
    {
     "data": {
      "text/html": [
       "Waiting for W&B process to finish... <strong style=\"color:green\">(success).</strong>"
      ],
      "text/plain": [
       "<IPython.core.display.HTML object>"
      ]
     },
     "metadata": {},
     "output_type": "display_data"
    },
    {
     "data": {
      "application/vnd.jupyter.widget-view+json": {
       "model_id": "c3fad8dd44ef44ab8e5f83f8d8abefeb",
       "version_major": 2,
       "version_minor": 0
      },
      "text/plain": [
       "VBox(children=(Label(value='0.001 MB of 0.012 MB uploaded (0.000 MB deduped)\\r'), FloatProgress(value=0.076965…"
      ]
     },
     "metadata": {},
     "output_type": "display_data"
    },
    {
     "data": {
      "text/html": [
       "<style>\n",
       "    table.wandb td:nth-child(1) { padding: 0 10px; text-align: left ; width: auto;} td:nth-child(2) {text-align: left ; width: 100%}\n",
       "    .wandb-row { display: flex; flex-direction: row; flex-wrap: wrap; justify-content: flex-start; width: 100% }\n",
       "    .wandb-col { display: flex; flex-direction: column; flex-basis: 100%; flex: 1; padding: 10px; }\n",
       "    </style>\n",
       "<div class=\"wandb-row\"><div class=\"wandb-col\"><h3>Run history:</h3><br/><table class=\"wandb\"><tr><td>least_priority_tool_change</td><td>▁▃▂▂▂▂▂▂▂▂██</td></tr><tr><td>queue_size</td><td>▁▂▂▃▄▄▅▅▆▇▇█</td></tr><tr><td>runtime</td><td>▁█▇▇█▇█████▇</td></tr><tr><td>space_complexity</td><td>▁▁▁▁▁▁▁▁▁▁▁▁</td></tr><tr><td>time_complexity</td><td>▁▂▂▃▄▄▅▆▇▇██</td></tr><tr><td>tool_change_count</td><td>▁▁▁▁▁▁▁▁▁▁▆█</td></tr><tr><td>worst_wait_time</td><td>▁▂▂▃▄▄▅▆▇▇██</td></tr></table><br/></div><div class=\"wandb-col\"><h3>Run summary:</h3><br/><table class=\"wandb\"><tr><td>least_priority_tool_change</td><td>6</td></tr><tr><td>queue_size</td><td>275</td></tr><tr><td>runtime</td><td>0.23457</td></tr><tr><td>space_complexity</td><td>48</td></tr><tr><td>time_complexity</td><td>64.50557</td></tr><tr><td>tool_change_count</td><td>60</td></tr><tr><td>worst_wait_time</td><td>64.37386</td></tr></table><br/></div></div>"
      ],
      "text/plain": [
       "<IPython.core.display.HTML object>"
      ]
     },
     "metadata": {},
     "output_type": "display_data"
    },
    {
     "data": {
      "text/html": [
       " View run <strong style=\"color:#cdcd00\">woven-surf-12</strong> at: <a href=\"https://wandb.ai/technoculture/mintoolpq/runs/h8on4utt\" target=\"_blank\">https://wandb.ai/technoculture/mintoolpq/runs/h8on4utt</a><br/>Synced 5 W&B file(s), 0 media file(s), 0 artifact file(s) and 0 other file(s)"
      ],
      "text/plain": [
       "<IPython.core.display.HTML object>"
      ]
     },
     "metadata": {},
     "output_type": "display_data"
    },
    {
     "data": {
      "text/html": [
       "Find logs at: <code>./wandb/run-20230116_121523-h8on4utt/logs</code>"
      ],
      "text/plain": [
       "<IPython.core.display.HTML object>"
      ]
     },
     "metadata": {},
     "output_type": "display_data"
    }
   ],
   "source": [
    "import numpy as np\n",
    "import matplotlib.pyplot as plt\n",
    "from sys import getsizeof\n",
    "\n",
    "np.random.seed(42)\n",
    "task_count = np.arange(0, 300, 25)\n",
    "\n",
    "queue_size = []\n",
    "time_complexity = []\n",
    "space_complexity = []\n",
    "tool_change_count = []\n",
    "tool_change_priority = []\n",
    "worst_wait_time = []\n",
    "runtime = []\n",
    "\n",
    "for n in task_count:\n",
    "  tasks = [Task(p, t) for p, t in zip(np.random.randint(1, 7, n), np.random.choice(list(Tool), n))]\n",
    "  tq = TaskQueue(tasks)\n",
    "\n",
    "  # Log the data\n",
    "  queue_size_ = len(tq)\n",
    "  queue_size.append(queue_size_)\n",
    "  wandb.log({\"queue_size\": queue_size_})  \n",
    "  # ---\n",
    "\n",
    "  start = datetime.now()\n",
    "  for t in tq:\n",
    "    sleep(np.random.uniform(0, 2))\n",
    "    pass\n",
    "  end = datetime.now()\n",
    "\n",
    "  # Log the data\n",
    "  ## Unimportant\n",
    "  tool_change_count_ = tq.tool_change_count\n",
    "  tool_change_count.append(tool_change_count_)\n",
    "  wandb.log({\"tool_change_count\": tool_change_count_})\n",
    "\n",
    "  tool_change_priority_ = tq.least_priority_tool_change\n",
    "  tool_change_priority.append(tool_change_priority_)\n",
    "  wandb.log({\"least_priority_tool_change\": tool_change_priority_})\n",
    "  \n",
    "  delta_ = (end - start).total_seconds()\n",
    "  time_complexity.append(delta_)\n",
    "  wandb.log({\"time_complexity\": delta_})\n",
    "\n",
    "  size_ = getsizeof(tq)\n",
    "  space_complexity.append(size_)\n",
    "  wandb.log({\"space_complexity\": size_})\n",
    "\n",
    "  worst_wait_time_ = tq.worst_wait_time.total_seconds()\n",
    "  worst_wait_time.append(worst_wait_time_)\n",
    "  wandb.log({\"worst_wait_time\": worst_wait_time_})\n",
    "\n",
    "  runtime_ = (end - start).total_seconds() / n if n > 0 else 0\n",
    "  runtime.append(runtime_)\n",
    "  wandb.log({\"runtime\": runtime_})\n",
    "\n",
    "  print(f\"n: {n}, time: {delta_}, tool_change_count: {tool_change_count_}\")\n",
    "  ## Unimportant -- end\n",
    "run.finish()"
   ]
  },
  {
   "cell_type": "code",
   "execution_count": 60,
   "metadata": {},
   "outputs": [
    {
     "data": {
      "text/plain": [
       "Text(0, 0.5, 'Average Wait Time (s)')"
      ]
     },
     "execution_count": 60,
     "metadata": {},
     "output_type": "execute_result"
    },
    {
     "data": {
      "image/png": "[encoded data removed]",
      "text/plain": [
       "<Figure size 2000x1000 with 4 Axes>"
      ]
     },
     "metadata": {},
     "output_type": "display_data"
    }
   ],
   "source": [
    "time_complexity = np.array(time_complexity)\n",
    "worst_wait_time = np.array(worst_wait_time)\n",
    "tool_change_count = np.array(tool_change_count)\n",
    "average_wait_time = np.array(runtime)\n",
    "\n",
    "fig, ax = plt.subplots(2, 2, figsize=(20, 10))\n",
    "\n",
    "ax[0, 0].plot(task_count, time_complexity)\n",
    "ax[0, 1].plot(task_count, tool_change_count)\n",
    "ax[1, 1].plot(task_count, worst_wait_time)\n",
    "ax[1, 0].plot(task_count, average_wait_time) # This is the average wait time per task.\n",
    "\n",
    "ax[0, 0].set_title(\"Time Complexity\")\n",
    "ax[0, 1].set_title(\"Tool Change Count\")\n",
    "ax[1, 1].set_title(\"Worst Wait Time\")\n",
    "ax[1, 0].set_title(\"Average Wait Time\")\n",
    "\n",
    "ax[0, 0].set_xlabel(\"Task Count\")\n",
    "ax[0, 1].set_xlabel(\"Task Count\")\n",
    "ax[1, 1].set_xlabel(\"Task Count\")\n",
    "ax[1, 0].set_xlabel(\"Task Count\")\n",
    "\n",
    "ax[0, 0].set_ylabel(\"Time (s)\")\n",
    "ax[0, 1].set_ylabel(\"Tool Change Count\")\n",
    "ax[1, 1].set_ylabel(\"Worst Wait Time (s)\")\n",
    "ax[1, 0].set_ylabel(\"Average Wait Time (s)\")"
   ]
  },
  {
   "attachments": {},
   "cell_type": "markdown",
   "metadata": {},
   "source": [
    "# Async Implementation"
   ]
  },
  {
   "cell_type": "code",
   "execution_count": null,
   "metadata": {},
   "outputs": [],
   "source": []
  }
 ],
 "metadata": {
  "kernelspec": {
   "display_name": "Python 3",
   "language": "python",
   "name": "python3"
  },
  "language_info": {
   "codemirror_mode": {
    "name": "ipython",
    "version": 3
   },
   "file_extension": ".py",
   "mimetype": "text/x-python",
   "name": "python",
   "nbconvert_exporter": "python",
   "pygments_lexer": "ipython3",
   "version": "3.10.8"
  },
  "orig_nbformat": 4,
  "vscode": {
   "interpreter": {
    "hash": "b0fa6594d8f4cbf19f97940f81e996739fb7646882a419484c72d19e05852a7e"
   }
  }
 },
 "nbformat": 4,
 "nbformat_minor": 2
}
