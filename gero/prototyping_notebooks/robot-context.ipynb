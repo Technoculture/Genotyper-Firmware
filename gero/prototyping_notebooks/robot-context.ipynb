{
 "cells": [
  {
   "cell_type": "code",
   "execution_count": 47,
   "metadata": {},
   "outputs": [
    {
     "data": {
      "text/plain": [
       "<ProcessorFamily.X86: 'x86'>"
      ]
     },
     "execution_count": 47,
     "metadata": {},
     "output_type": "execute_result"
    }
   ],
   "source": [
    "# Find robot's operational context\n",
    "\n",
    "from enum import Enum\n",
    "import platform\n",
    "from devtools import debug\n",
    "\n",
    "\n",
    "class UnsupportedHardware(Exception):\n",
    "    def __init__(self):\n",
    "        super().__init__(\"This hardware device is unsupported.\")\n",
    "\n",
    "\n",
    "class ProcessorFamily(str, Enum):\n",
    "    ARM = \"arm\"\n",
    "    X86 = \"x86\"\n",
    "\n",
    "\n",
    "class OperatingSystem(str, Enum):\n",
    "    LINUX = \"linux\"\n",
    "    OSX = \"osx\"\n",
    "    WINDOWS = \"windows\"\n",
    "\n",
    "\n",
    "class Hardware(str, Enum):\n",
    "    RPI4 = \"rpi-4\"\n",
    "    NUC = \"nuc\"\n",
    "\n",
    "\n",
    "def _is_x86() -> bool:\n",
    "    return platform.processor() == 'i386'\n",
    "\n",
    "def _is_arm() -> bool:\n",
    "    return False\n",
    "\n",
    "def _is_linux() -> bool:\n",
    "    return False\n",
    "\n",
    "def _is_osx() -> bool:\n",
    "    return False\n",
    "\n",
    "def _is_windows() -> bool:\n",
    "    return False\n",
    "\n",
    "def get_architecture():\n",
    "    if _is_x86():\n",
    "        return ProcessorFamily.X86\n",
    "    raise UnsupportedHardware()\n",
    "\n",
    "\n",
    "get_architecture()\n",
    "\n",
    "# print(platform.processor())"
   ]
  },
  {
   "cell_type": "code",
   "execution_count": null,
   "metadata": {},
   "outputs": [],
   "source": []
  }
 ],
 "metadata": {
  "interpreter": {
   "hash": "a3229797164e98309895a25335d7a31257641e7039ebcafb4b93ca24d825acbe"
  },
  "kernelspec": {
   "display_name": "Python 3.10.4 ('gero-T-rBoS3V-py3.10')",
   "language": "python",
   "name": "python3"
  },
  "language_info": {
   "codemirror_mode": {
    "name": "ipython",
    "version": 3
   },
   "file_extension": ".py",
   "mimetype": "text/x-python",
   "name": "python",
   "nbconvert_exporter": "python",
   "pygments_lexer": "ipython3",
   "version": "3.10.4"
  },
  "orig_nbformat": 4
 },
 "nbformat": 4,
 "nbformat_minor": 2
}
