{
 "cells": [
  {
   "cell_type": "code",
   "execution_count": 1,
   "metadata": {},
   "outputs": [],
   "source": [
    "from typing import List, Optional\n",
    "from pydantic import BaseModel\n",
    "\n",
    "class BoundingBox(BaseModel):\n",
    "    \"\"\"Bounding Box value type holds sizes in all three dimensions (in mm).\n",
    "    These sizes indicate the maximum size that an entity takes in each of the three dimensions.\n",
    "    \"\"\"\n",
    "\n",
    "    length: int\n",
    "    width: int\n",
    "    height: int\n",
    "\n",
    "    @property\n",
    "    def base_area(self):\n",
    "        return self.length * self.width\n",
    "    \n",
    "    @property\n",
    "    def volume(self):\n",
    "        return self.length * self.width * self.height\n",
    "\n",
    "\n",
    "class Offset(BaseModel):\n",
    "    \"\"\"Offset from a given origin (0,0,0) in mm.\"\"\"\n",
    "\n",
    "    x: int = 0\n",
    "    y: int = 0\n",
    "    z: int = 0\n",
    "\n",
    "\n",
    "class Constraints(BaseModel):\n",
    "    \"\"\"Hold Bounding Boxes for Available Working Region, along with offsets that may further shrink this volume.\n",
    "    Available Working Region is the region available for placement of modules.\n",
    "    \"\"\"\n",
    "\n",
    "    working_region_bounding_box: BoundingBox\n",
    "    pipette_bounding_box: BoundingBox\n",
    "    pipette_offset: Offset\n",
    "\n",
    "\n",
    "class Module(BaseModel):\n",
    "    \"\"\"Any module must provide a name and a bounding box.\"\"\"\n",
    "    name: str\n",
    "    bounding_box: BoundingBox\n",
    "    offset: Optional[Offset]\n",
    "\n",
    "\n",
    "class Layout(BaseModel):\n",
    "    \"\"\"A layout model is the top most model for parsing and representing the contents of gero's layout file\n",
    "    This contains both the constraints that limit layoutability, as well as bounding box and positional concerns of the modules that are to be provisioned in the layout.\n",
    "    \"\"\"\n",
    "\n",
    "    constraints: Constraints\n",
    "    modules: List[Module]\n"
   ]
  },
  {
   "cell_type": "code",
   "execution_count": 7,
   "metadata": {},
   "outputs": [
    {
     "name": "stdout",
     "output_type": "stream",
     "text": [
      "3 module(s) are to be added to the layout.\n"
     ]
    }
   ],
   "source": [
    "from json import load\n",
    "from devtools import debug\n",
    "\n",
    "file = \"../sample_config_files/.gero/computed_layout.json\"\n",
    "\n",
    "with open(file=file) as f:\n",
    "    data = load(f)\n",
    "    # debug(data)\n",
    "\n",
    "    layout = Layout(**data)\n",
    "\n",
    "    # debug(layout.constraints)\n",
    "    # debug(layout.modules)\n",
    "\n",
    "    print(f\"{len(layout.modules)} module(s) are to be added to the layout.\")"
   ]
  },
  {
   "cell_type": "code",
   "execution_count": 8,
   "metadata": {},
   "outputs": [
    {
     "name": "stdout",
     "output_type": "stream",
     "text": [
      "<class '__main__.BoundingBox'>\n",
      "area=165750mm^2, vol=31492500mm^3\n"
     ]
    }
   ],
   "source": [
    "wbox = layout.constraints.pipette_bounding_box\n",
    "print(type(wbox))\n",
    "\n",
    "print(f\"area={wbox.base_area}mm^2, vol={wbox.volume}mm^3\")"
   ]
  },
  {
   "cell_type": "code",
   "execution_count": null,
   "metadata": {},
   "outputs": [],
   "source": []
  }
 ],
 "metadata": {
  "interpreter": {
   "hash": "a3229797164e98309895a25335d7a31257641e7039ebcafb4b93ca24d825acbe"
  },
  "kernelspec": {
   "display_name": "Python 3.10.4 ('gero-T-rBoS3V-py3.10')",
   "language": "python",
   "name": "python3"
  },
  "language_info": {
   "codemirror_mode": {
    "name": "ipython",
    "version": 3
   },
   "file_extension": ".py",
   "mimetype": "text/x-python",
   "name": "python",
   "nbconvert_exporter": "python",
   "pygments_lexer": "ipython3",
   "version": "3.10.4"
  },
  "orig_nbformat": 4
 },
 "nbformat": 4,
 "nbformat_minor": 2
}
