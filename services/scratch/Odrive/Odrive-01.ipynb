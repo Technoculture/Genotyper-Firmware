{
 "cells": [
  {
   "cell_type": "markdown",
   "id": "3acea51d",
   "metadata": {},
   "source": [
    "# Introduction\n",
    "Setting up configuration"
   ]
  },
  {
   "cell_type": "code",
   "execution_count": 1,
   "id": "00002bfd",
   "metadata": {},
   "outputs": [],
   "source": [
    "import numpy"
   ]
  },
  {
   "cell_type": "code",
   "execution_count": 2,
   "id": "8f87848d",
   "metadata": {},
   "outputs": [
    {
     "name": "stdout",
     "output_type": "stream",
     "text": [
      "hello\n"
     ]
    }
   ],
   "source": [
    "print(\"hello\")"
   ]
  },
  {
   "cell_type": "markdown",
   "id": "dd1449ba",
   "metadata": {},
   "source": [
    "## Advanced Configurations\n",
    "\n",
    "1. sdflkjada\n",
    "2. sdfsadfa"
   ]
  },
  {
   "cell_type": "code",
   "execution_count": 3,
   "id": "ad154d2c",
   "metadata": {
    "scrolled": false
   },
   "outputs": [
    {
     "name": "stdout",
     "output_type": "stream",
     "text": [
      "Hello\n"
     ]
    }
   ],
   "source": [
    "def sayHello():\n",
    "    print(\"Hello\")\n",
    "    \n",
    "sayHello()"
   ]
  },
  {
   "cell_type": "markdown",
   "id": "aa766639",
   "metadata": {},
   "source": []
  }
 ],
 "metadata": {
  "kernelspec": {
   "display_name": "Python 3 (ipykernel)",
   "language": "python",
   "name": "python3"
  },
  "language_info": {
   "codemirror_mode": {
    "name": "ipython",
    "version": 3
   },
   "file_extension": ".py",
   "mimetype": "text/x-python",
   "name": "python",
   "nbconvert_exporter": "python",
   "pygments_lexer": "ipython3",
   "version": "3.9.7"
  }
 },
 "nbformat": 4,
 "nbformat_minor": 5
}
